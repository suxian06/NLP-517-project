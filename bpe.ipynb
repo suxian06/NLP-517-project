{
 "cells": [
  {
   "cell_type": "code",
   "execution_count": 1,
   "id": "fd7fafc4",
   "metadata": {},
   "outputs": [],
   "source": [
    "import torch"
   ]
  },
  {
   "cell_type": "code",
   "execution_count": 2,
   "id": "1c7383dd",
   "metadata": {},
   "outputs": [
    {
     "data": {
      "text/plain": [
       "'1.10.1+cu102'"
      ]
     },
     "execution_count": 2,
     "metadata": {},
     "output_type": "execute_result"
    }
   ],
   "source": [
    "torch.__version__"
   ]
  },
  {
   "cell_type": "code",
   "execution_count": 3,
   "id": "eb23b1d5",
   "metadata": {
    "scrolled": true
   },
   "outputs": [
    {
     "name": "stderr",
     "output_type": "stream",
     "text": [
      "Using cache found in /homes/iws/sxian/.cache/torch/hub/pytorch_fairseq_main\n",
      "2022-02-22 13:02:32 | INFO | fairseq.tasks.text_to_speech | Please install tensorboardX: pip install tensorboardX\n",
      "fatal: not a git repository (or any parent up to mount point /homes/iws)\n",
      "Stopping at filesystem boundary (GIT_DISCOVERY_ACROSS_FILESYSTEM not set).\n"
     ]
    },
    {
     "name": "stdout",
     "output_type": "stream",
     "text": [
      "running build_ext\n",
      "cythoning fairseq/data/data_utils_fast.pyx to fairseq/data/data_utils_fast.cpp\n"
     ]
    },
    {
     "name": "stderr",
     "output_type": "stream",
     "text": [
      "/homes/iws/sxian/miniconda3/envs/py3.7/lib/python3.7/site-packages/torch/utils/cpp_extension.py:381: UserWarning: Attempted to use ninja as the BuildExtension backend but we could not find ninja.. Falling back to using the slow distutils backend.\n",
      "  warnings.warn(msg.format('we could not find ninja.'))\n"
     ]
    },
    {
     "name": "stdout",
     "output_type": "stream",
     "text": [
      "cythoning fairseq/data/token_block_utils_fast.pyx to fairseq/data/token_block_utils_fast.cpp\n",
      "building 'fairseq.libbleu' extension\n",
      "creating build\n",
      "creating build/temp.linux-x86_64-3.7\n",
      "creating build/temp.linux-x86_64-3.7/fairseq\n",
      "creating build/temp.linux-x86_64-3.7/fairseq/clib\n",
      "creating build/temp.linux-x86_64-3.7/fairseq/clib/libbleu\n",
      "gcc -pthread -B /homes/iws/sxian/miniconda3/envs/py3.7/compiler_compat -Wl,--sysroot=/ -Wsign-compare -DNDEBUG -g -fwrapv -O3 -Wall -Wstrict-prototypes -fPIC -I/homes/iws/sxian/miniconda3/envs/py3.7/include/python3.7m -c fairseq/clib/libbleu/libbleu.cpp -o build/temp.linux-x86_64-3.7/fairseq/clib/libbleu/libbleu.o -std=c++11 -O3 -DTORCH_API_INCLUDE_EXTENSION_H -DPYBIND11_COMPILER_TYPE=\"_gcc\" -DPYBIND11_STDLIB=\"_libstdcpp\" -DPYBIND11_BUILD_ABI=\"_cxxabi1011\" -DTORCH_EXTENSION_NAME=libbleu -D_GLIBCXX_USE_CXX11_ABI=0\n"
     ]
    },
    {
     "name": "stderr",
     "output_type": "stream",
     "text": [
      "cc1plus: warning: command line option ‘-Wstrict-prototypes’ is valid for C/ObjC but not for C++\n"
     ]
    },
    {
     "name": "stdout",
     "output_type": "stream",
     "text": [
      "gcc -pthread -B /homes/iws/sxian/miniconda3/envs/py3.7/compiler_compat -Wl,--sysroot=/ -Wsign-compare -DNDEBUG -g -fwrapv -O3 -Wall -Wstrict-prototypes -fPIC -I/homes/iws/sxian/miniconda3/envs/py3.7/include/python3.7m -c fairseq/clib/libbleu/module.cpp -o build/temp.linux-x86_64-3.7/fairseq/clib/libbleu/module.o -std=c++11 -O3 -DTORCH_API_INCLUDE_EXTENSION_H -DPYBIND11_COMPILER_TYPE=\"_gcc\" -DPYBIND11_STDLIB=\"_libstdcpp\" -DPYBIND11_BUILD_ABI=\"_cxxabi1011\" -DTORCH_EXTENSION_NAME=libbleu -D_GLIBCXX_USE_CXX11_ABI=0\n",
      "creating build/lib.linux-x86_64-3.7\n",
      "creating build/lib.linux-x86_64-3.7/fairseq\n",
      "g++ -pthread -shared -B /homes/iws/sxian/miniconda3/envs/py3.7/compiler_compat -L/homes/iws/sxian/miniconda3/envs/py3.7/lib -Wl,-rpath=/homes/iws/sxian/miniconda3/envs/py3.7/lib -Wl,--no-as-needed -Wl,--sysroot=/ build/temp.linux-x86_64-3.7/fairseq/clib/libbleu/libbleu.o build/temp.linux-x86_64-3.7/fairseq/clib/libbleu/module.o -o build/lib.linux-x86_64-3.7/fairseq/libbleu.cpython-37m-x86_64-linux-gnu.so\n",
      "building 'fairseq.data.data_utils_fast' extension\n",
      "creating build/temp.linux-x86_64-3.7/fairseq/data\n",
      "gcc -pthread -B /homes/iws/sxian/miniconda3/envs/py3.7/compiler_compat -Wl,--sysroot=/ -Wsign-compare -DNDEBUG -g -fwrapv -O3 -Wall -Wstrict-prototypes -fPIC -I/homes/iws/sxian/miniconda3/envs/py3.7/lib/python3.7/site-packages/numpy/core/include -I/homes/iws/sxian/miniconda3/envs/py3.7/lib/python3.7/site-packages/numpy/core/include -I/homes/iws/sxian/miniconda3/envs/py3.7/include/python3.7m -c fairseq/data/data_utils_fast.cpp -o build/temp.linux-x86_64-3.7/fairseq/data/data_utils_fast.o -std=c++11 -O3 -DTORCH_API_INCLUDE_EXTENSION_H -DPYBIND11_COMPILER_TYPE=\"_gcc\" -DPYBIND11_STDLIB=\"_libstdcpp\" -DPYBIND11_BUILD_ABI=\"_cxxabi1011\" -DTORCH_EXTENSION_NAME=data_utils_fast -D_GLIBCXX_USE_CXX11_ABI=0\n"
     ]
    },
    {
     "name": "stderr",
     "output_type": "stream",
     "text": [
      "cc1plus: warning: command line option ‘-Wstrict-prototypes’ is valid for C/ObjC but not for C++\n",
      "cc1plus: warning: command line option ‘-Wstrict-prototypes’ is valid for C/ObjC but not for C++\n",
      "In file included from /homes/iws/sxian/miniconda3/envs/py3.7/lib/python3.7/site-packages/numpy/core/include/numpy/ndarraytypes.h:1969,\n",
      "                 from /homes/iws/sxian/miniconda3/envs/py3.7/lib/python3.7/site-packages/numpy/core/include/numpy/ndarrayobject.h:12,\n",
      "                 from /homes/iws/sxian/miniconda3/envs/py3.7/lib/python3.7/site-packages/numpy/core/include/numpy/arrayobject.h:4,\n",
      "                 from fairseq/data/data_utils_fast.cpp:695:\n",
      "/homes/iws/sxian/miniconda3/envs/py3.7/lib/python3.7/site-packages/numpy/core/include/numpy/npy_1_7_deprecated_api.h:17:2: warning: #warning \"Using deprecated NumPy API, disable it with \" \"#define NPY_NO_DEPRECATED_API NPY_1_7_API_VERSION\" [-Wcpp]\n",
      " #warning \"Using deprecated NumPy API, disable it with \" \\\n",
      "  ^~~~~~~\n"
     ]
    },
    {
     "name": "stdout",
     "output_type": "stream",
     "text": [
      "creating build/lib.linux-x86_64-3.7/fairseq/data\n",
      "g++ -pthread -shared -B /homes/iws/sxian/miniconda3/envs/py3.7/compiler_compat -L/homes/iws/sxian/miniconda3/envs/py3.7/lib -Wl,-rpath=/homes/iws/sxian/miniconda3/envs/py3.7/lib -Wl,--no-as-needed -Wl,--sysroot=/ build/temp.linux-x86_64-3.7/fairseq/data/data_utils_fast.o -o build/lib.linux-x86_64-3.7/fairseq/data/data_utils_fast.cpython-37m-x86_64-linux-gnu.so\n",
      "building 'fairseq.data.token_block_utils_fast' extension\n",
      "gcc -pthread -B /homes/iws/sxian/miniconda3/envs/py3.7/compiler_compat -Wl,--sysroot=/ -Wsign-compare -DNDEBUG -g -fwrapv -O3 -Wall -Wstrict-prototypes -fPIC -I/homes/iws/sxian/miniconda3/envs/py3.7/lib/python3.7/site-packages/numpy/core/include -I/homes/iws/sxian/miniconda3/envs/py3.7/lib/python3.7/site-packages/numpy/core/include -I/homes/iws/sxian/miniconda3/envs/py3.7/include/python3.7m -c fairseq/data/token_block_utils_fast.cpp -o build/temp.linux-x86_64-3.7/fairseq/data/token_block_utils_fast.o -std=c++11 -O3 -DTORCH_API_INCLUDE_EXTENSION_H -DPYBIND11_COMPILER_TYPE=\"_gcc\" -DPYBIND11_STDLIB=\"_libstdcpp\" -DPYBIND11_BUILD_ABI=\"_cxxabi1011\" -DTORCH_EXTENSION_NAME=token_block_utils_fast -D_GLIBCXX_USE_CXX11_ABI=0\n"
     ]
    },
    {
     "name": "stderr",
     "output_type": "stream",
     "text": [
      "cc1plus: warning: command line option ‘-Wstrict-prototypes’ is valid for C/ObjC but not for C++\n",
      "In file included from /homes/iws/sxian/miniconda3/envs/py3.7/lib/python3.7/site-packages/numpy/core/include/numpy/ndarraytypes.h:1969,\n",
      "                 from /homes/iws/sxian/miniconda3/envs/py3.7/lib/python3.7/site-packages/numpy/core/include/numpy/ndarrayobject.h:12,\n",
      "                 from /homes/iws/sxian/miniconda3/envs/py3.7/lib/python3.7/site-packages/numpy/core/include/numpy/arrayobject.h:4,\n",
      "                 from fairseq/data/token_block_utils_fast.cpp:696:\n",
      "/homes/iws/sxian/miniconda3/envs/py3.7/lib/python3.7/site-packages/numpy/core/include/numpy/npy_1_7_deprecated_api.h:17:2: warning: #warning \"Using deprecated NumPy API, disable it with \" \"#define NPY_NO_DEPRECATED_API NPY_1_7_API_VERSION\" [-Wcpp]\n",
      " #warning \"Using deprecated NumPy API, disable it with \" \\\n",
      "  ^~~~~~~\n",
      "fairseq/data/token_block_utils_fast.cpp: In function ‘PyArrayObject* __pyx_f_7fairseq_4data_22token_block_utils_fast__get_slice_indices_fast(PyArrayObject*, PyObject*, int, int, int)’:\n",
      "fairseq/data/token_block_utils_fast.cpp:3382:36: warning: comparison of integer expressions of different signedness: ‘__pyx_t_7fairseq_4data_22token_block_utils_fast_DTYPE_t’ {aka ‘long int’} and ‘size_t’ {aka ‘long unsigned int’} [-Wsign-compare]\n",
      "       __pyx_t_4 = ((__pyx_v_sz_idx < __pyx_t_10) != 0);\n",
      "                     ~~~~~~~~~~~~~~~^~~~~~~~~~~~\n",
      "fairseq/data/token_block_utils_fast.cpp:3577:36: warning: comparison of integer expressions of different signedness: ‘__pyx_t_7fairseq_4data_22token_block_utils_fast_DTYPE_t’ {aka ‘long int’} and ‘size_t’ {aka ‘long unsigned int’} [-Wsign-compare]\n",
      "       __pyx_t_3 = ((__pyx_v_sz_idx < __pyx_t_10) != 0);\n",
      "                     ~~~~~~~~~~~~~~~^~~~~~~~~~~~\n"
     ]
    },
    {
     "name": "stdout",
     "output_type": "stream",
     "text": [
      "g++ -pthread -shared -B /homes/iws/sxian/miniconda3/envs/py3.7/compiler_compat -L/homes/iws/sxian/miniconda3/envs/py3.7/lib -Wl,-rpath=/homes/iws/sxian/miniconda3/envs/py3.7/lib -Wl,--no-as-needed -Wl,--sysroot=/ build/temp.linux-x86_64-3.7/fairseq/data/token_block_utils_fast.o -o build/lib.linux-x86_64-3.7/fairseq/data/token_block_utils_fast.cpython-37m-x86_64-linux-gnu.so\n",
      "building 'fairseq.libbase' extension\n",
      "creating build/temp.linux-x86_64-3.7/fairseq/clib/libbase\n",
      "gcc -pthread -B /homes/iws/sxian/miniconda3/envs/py3.7/compiler_compat -Wl,--sysroot=/ -Wsign-compare -DNDEBUG -g -fwrapv -O3 -Wall -Wstrict-prototypes -fPIC -I/homes/iws/sxian/miniconda3/envs/py3.7/lib/python3.7/site-packages/torch/include -I/homes/iws/sxian/miniconda3/envs/py3.7/lib/python3.7/site-packages/torch/include/torch/csrc/api/include -I/homes/iws/sxian/miniconda3/envs/py3.7/lib/python3.7/site-packages/torch/include/TH -I/homes/iws/sxian/miniconda3/envs/py3.7/lib/python3.7/site-packages/torch/include/THC -I/homes/iws/sxian/miniconda3/envs/py3.7/include/python3.7m -c fairseq/clib/libbase/balanced_assignment.cpp -o build/temp.linux-x86_64-3.7/fairseq/clib/libbase/balanced_assignment.o -DTORCH_API_INCLUDE_EXTENSION_H -DPYBIND11_COMPILER_TYPE=\"_gcc\" -DPYBIND11_STDLIB=\"_libstdcpp\" -DPYBIND11_BUILD_ABI=\"_cxxabi1011\" -DTORCH_EXTENSION_NAME=libbase -D_GLIBCXX_USE_CXX11_ABI=0 -std=c++14\n"
     ]
    },
    {
     "name": "stderr",
     "output_type": "stream",
     "text": [
      "cc1plus: warning: command line option ‘-Wstrict-prototypes’ is valid for C/ObjC but not for C++\n"
     ]
    },
    {
     "name": "stdout",
     "output_type": "stream",
     "text": [
      "g++ -pthread -shared -B /homes/iws/sxian/miniconda3/envs/py3.7/compiler_compat -L/homes/iws/sxian/miniconda3/envs/py3.7/lib -Wl,-rpath=/homes/iws/sxian/miniconda3/envs/py3.7/lib -Wl,--no-as-needed -Wl,--sysroot=/ build/temp.linux-x86_64-3.7/fairseq/clib/libbase/balanced_assignment.o -L/homes/iws/sxian/miniconda3/envs/py3.7/lib/python3.7/site-packages/torch/lib -lc10 -ltorch -ltorch_cpu -ltorch_python -o build/lib.linux-x86_64-3.7/fairseq/libbase.cpython-37m-x86_64-linux-gnu.so\n",
      "building 'fairseq.libnat' extension\n",
      "creating build/temp.linux-x86_64-3.7/fairseq/clib/libnat\n",
      "gcc -pthread -B /homes/iws/sxian/miniconda3/envs/py3.7/compiler_compat -Wl,--sysroot=/ -Wsign-compare -DNDEBUG -g -fwrapv -O3 -Wall -Wstrict-prototypes -fPIC -I/homes/iws/sxian/miniconda3/envs/py3.7/lib/python3.7/site-packages/torch/include -I/homes/iws/sxian/miniconda3/envs/py3.7/lib/python3.7/site-packages/torch/include/torch/csrc/api/include -I/homes/iws/sxian/miniconda3/envs/py3.7/lib/python3.7/site-packages/torch/include/TH -I/homes/iws/sxian/miniconda3/envs/py3.7/lib/python3.7/site-packages/torch/include/THC -I/homes/iws/sxian/miniconda3/envs/py3.7/include/python3.7m -c fairseq/clib/libnat/edit_dist.cpp -o build/temp.linux-x86_64-3.7/fairseq/clib/libnat/edit_dist.o -DTORCH_API_INCLUDE_EXTENSION_H -DPYBIND11_COMPILER_TYPE=\"_gcc\" -DPYBIND11_STDLIB=\"_libstdcpp\" -DPYBIND11_BUILD_ABI=\"_cxxabi1011\" -DTORCH_EXTENSION_NAME=libnat -D_GLIBCXX_USE_CXX11_ABI=0 -std=c++14\n"
     ]
    },
    {
     "name": "stderr",
     "output_type": "stream",
     "text": [
      "cc1plus: warning: command line option ‘-Wstrict-prototypes’ is valid for C/ObjC but not for C++\n",
      "In file included from fairseq/clib/libnat/edit_dist.cpp:9:\n",
      "/homes/iws/sxian/miniconda3/envs/py3.7/lib/python3.7/site-packages/torch/include/pybind11/detail/common.h:734:83: warning: inline declaration of ‘void pybind11::pybind11_fail(const string&)’ follows declaration with attribute ‘noinline’ [-Wattributes]\n",
      " [[noreturn]] PYBIND11_NOINLINE inline void pybind11_fail(const std::string &reason) { throw std::runtime_error(reason); }\n",
      "                                                                                   ^\n",
      "/homes/iws/sxian/miniconda3/envs/py3.7/lib/python3.7/site-packages/torch/include/pybind11/detail/common.h:733:44: note: previous definition of ‘void pybind11::pybind11_fail(const char*)’ was here\n",
      " [[noreturn]] PYBIND11_NOINLINE inline void pybind11_fail(const char *reason) { throw std::runtime_error(reason); }\n",
      "                                            ^~~~~~~~~~~~~\n"
     ]
    },
    {
     "name": "stdout",
     "output_type": "stream",
     "text": [
      "g++ -pthread -shared -B /homes/iws/sxian/miniconda3/envs/py3.7/compiler_compat -L/homes/iws/sxian/miniconda3/envs/py3.7/lib -Wl,-rpath=/homes/iws/sxian/miniconda3/envs/py3.7/lib -Wl,--no-as-needed -Wl,--sysroot=/ build/temp.linux-x86_64-3.7/fairseq/clib/libnat/edit_dist.o -L/homes/iws/sxian/miniconda3/envs/py3.7/lib/python3.7/site-packages/torch/lib -lc10 -ltorch -ltorch_cpu -ltorch_python -o build/lib.linux-x86_64-3.7/fairseq/libnat.cpython-37m-x86_64-linux-gnu.so\n",
      "building 'alignment_train_cpu_binding' extension\n",
      "creating build/temp.linux-x86_64-3.7/examples\n",
      "creating build/temp.linux-x86_64-3.7/examples/operators\n",
      "gcc -pthread -B /homes/iws/sxian/miniconda3/envs/py3.7/compiler_compat -Wl,--sysroot=/ -Wsign-compare -DNDEBUG -g -fwrapv -O3 -Wall -Wstrict-prototypes -fPIC -I/homes/iws/sxian/miniconda3/envs/py3.7/lib/python3.7/site-packages/torch/include -I/homes/iws/sxian/miniconda3/envs/py3.7/lib/python3.7/site-packages/torch/include/torch/csrc/api/include -I/homes/iws/sxian/miniconda3/envs/py3.7/lib/python3.7/site-packages/torch/include/TH -I/homes/iws/sxian/miniconda3/envs/py3.7/lib/python3.7/site-packages/torch/include/THC -I/homes/iws/sxian/miniconda3/envs/py3.7/include/python3.7m -c examples/operators/alignment_train_cpu.cpp -o build/temp.linux-x86_64-3.7/examples/operators/alignment_train_cpu.o -DTORCH_API_INCLUDE_EXTENSION_H -DPYBIND11_COMPILER_TYPE=\"_gcc\" -DPYBIND11_STDLIB=\"_libstdcpp\" -DPYBIND11_BUILD_ABI=\"_cxxabi1011\" -DTORCH_EXTENSION_NAME=alignment_train_cpu_binding -D_GLIBCXX_USE_CXX11_ABI=0 -std=c++14\n"
     ]
    },
    {
     "name": "stderr",
     "output_type": "stream",
     "text": [
      "cc1plus: warning: command line option ‘-Wstrict-prototypes’ is valid for C/ObjC but not for C++\n"
     ]
    },
    {
     "name": "stdout",
     "output_type": "stream",
     "text": [
      "g++ -pthread -shared -B /homes/iws/sxian/miniconda3/envs/py3.7/compiler_compat -L/homes/iws/sxian/miniconda3/envs/py3.7/lib -Wl,-rpath=/homes/iws/sxian/miniconda3/envs/py3.7/lib -Wl,--no-as-needed -Wl,--sysroot=/ build/temp.linux-x86_64-3.7/examples/operators/alignment_train_cpu.o -L/homes/iws/sxian/miniconda3/envs/py3.7/lib/python3.7/site-packages/torch/lib -lc10 -ltorch -ltorch_cpu -ltorch_python -o build/lib.linux-x86_64-3.7/alignment_train_cpu_binding.cpython-37m-x86_64-linux-gnu.so\n",
      "copying build/lib.linux-x86_64-3.7/fairseq/libbleu.cpython-37m-x86_64-linux-gnu.so -> fairseq\n",
      "copying build/lib.linux-x86_64-3.7/fairseq/data/data_utils_fast.cpython-37m-x86_64-linux-gnu.so -> fairseq/data\n",
      "copying build/lib.linux-x86_64-3.7/fairseq/data/token_block_utils_fast.cpython-37m-x86_64-linux-gnu.so -> fairseq/data\n",
      "copying build/lib.linux-x86_64-3.7/fairseq/libbase.cpython-37m-x86_64-linux-gnu.so -> fairseq\n",
      "copying build/lib.linux-x86_64-3.7/fairseq/libnat.cpython-37m-x86_64-linux-gnu.so -> fairseq\n",
      "copying build/lib.linux-x86_64-3.7/alignment_train_cpu_binding.cpython-37m-x86_64-linux-gnu.so -> \n"
     ]
    },
    {
     "name": "stderr",
     "output_type": "stream",
     "text": [
      "2022-02-22 13:04:01 | INFO | fairseq.file_utils | http://dl.fbaipublicfiles.com/fairseq/models/roberta.base.tar.gz not found in cache, downloading to /tmp/tmp7dfw_x5v\n",
      "100%|████████████████████████████████████████████████████████████████████████████████████████████████████████████████████████████████████████| 231160875/231160875 [00:07<00:00, 31616912.25B/s]\n",
      "2022-02-22 13:04:08 | INFO | fairseq.file_utils | copying /tmp/tmp7dfw_x5v to cache at /homes/iws/sxian/.cache/torch/pytorch_fairseq/37d2bc14cf6332d61ed5abeb579948e6054e46cc724c7d23426382d11a31b2d6.ae5852b4abc6bf762e0b6b30f19e741aa05562471e9eb8f4a6ae261f04f9b350\n",
      "2022-02-22 13:04:11 | INFO | fairseq.file_utils | creating metadata file for /homes/iws/sxian/.cache/torch/pytorch_fairseq/37d2bc14cf6332d61ed5abeb579948e6054e46cc724c7d23426382d11a31b2d6.ae5852b4abc6bf762e0b6b30f19e741aa05562471e9eb8f4a6ae261f04f9b350\n",
      "2022-02-22 13:04:11 | INFO | fairseq.file_utils | removing temp file /tmp/tmp7dfw_x5v\n",
      "2022-02-22 13:04:11 | INFO | fairseq.file_utils | loading archive file http://dl.fbaipublicfiles.com/fairseq/models/roberta.base.tar.gz from cache at /homes/iws/sxian/.cache/torch/pytorch_fairseq/37d2bc14cf6332d61ed5abeb579948e6054e46cc724c7d23426382d11a31b2d6.ae5852b4abc6bf762e0b6b30f19e741aa05562471e9eb8f4a6ae261f04f9b350\n",
      "2022-02-22 13:04:11 | INFO | fairseq.file_utils | extracting archive file /homes/iws/sxian/.cache/torch/pytorch_fairseq/37d2bc14cf6332d61ed5abeb579948e6054e46cc724c7d23426382d11a31b2d6.ae5852b4abc6bf762e0b6b30f19e741aa05562471e9eb8f4a6ae261f04f9b350 to temp dir /tmp/tmpw56nntt3\n",
      "/homes/iws/sxian/miniconda3/envs/py3.7/lib/python3.7/site-packages/hydra/experimental/initialize.py:36: UserWarning: hydra.experimental.initialize() is no longer experimental. Use hydra.initialize()\n",
      "  message=\"hydra.experimental.initialize() is no longer experimental.\"\n",
      "/homes/iws/sxian/miniconda3/envs/py3.7/lib/python3.7/site-packages/hydra/experimental/compose.py:19: UserWarning: hydra.experimental.compose() is no longer experimental. Use hydra.compose()\n",
      "  message=\"hydra.experimental.compose() is no longer experimental.\"\n",
      "/homes/iws/sxian/miniconda3/envs/py3.7/lib/python3.7/site-packages/hydra/core/default_element.py:126: UserWarning: In 'config': Usage of deprecated keyword in package header '# @package _group_'.\n",
      "See https://hydra.cc/docs/next/upgrades/1.0_to_1.1/changes_to_package_header for more information\n",
      "  See {url} for more information\"\"\"\n",
      "/homes/iws/sxian/.cache/torch/hub/pytorch_fairseq_main/fairseq/checkpoint_utils.py:421: UserWarning: \n",
      "'config' is validated against ConfigStore schema with the same name.\n",
      "This behavior is deprecated in Hydra 1.1 and will be removed in Hydra 1.2.\n",
      "See https://hydra.cc/docs/next/upgrades/1.0_to_1.1/automatic_schema_matching for migration instructions.\n",
      "  state = load_checkpoint_to_cpu(filename, arg_overrides)\n",
      "/homes/iws/sxian/miniconda3/envs/py3.7/lib/python3.7/site-packages/hydra/compose.py:54: UserWarning: \n",
      "The strict flag in the compose API is deprecated and will be removed in the next version of Hydra.\n",
      "See https://hydra.cc/docs/upgrades/0.11_to_1.0/strict_mode_flag_deprecated for more info.\n",
      "\n",
      "  \"\"\"\n",
      "/homes/iws/sxian/miniconda3/envs/py3.7/lib/python3.7/site-packages/hydra/experimental/initialize.py:36: UserWarning: hydra.experimental.initialize() is no longer experimental. Use hydra.initialize()\n",
      "  message=\"hydra.experimental.initialize() is no longer experimental.\"\n",
      "/homes/iws/sxian/.cache/torch/hub/pytorch_fairseq_main/fairseq/models/roberta/model.py:376: UserWarning: \n",
      "'config' is validated against ConfigStore schema with the same name.\n",
      "This behavior is deprecated in Hydra 1.1 and will be removed in Hydra 1.2.\n",
      "See https://hydra.cc/docs/next/upgrades/1.0_to_1.1/automatic_schema_matching for migration instructions.\n",
      "  **kwargs,\n",
      "2022-02-22 13:04:22 | INFO | fairseq.tasks.masked_lm | dictionary: 50264 types\n",
      "2022-02-22 13:04:26 | INFO | fairseq.models.roberta.model | {'_name': None, 'common': {'_name': None, 'no_progress_bar': False, 'log_interval': 25, 'log_format': 'json', 'log_file': None, 'tensorboard_logdir': None, 'wandb_project': None, 'azureml_logging': False, 'seed': 1, 'cpu': False, 'tpu': False, 'bf16': False, 'memory_efficient_bf16': False, 'fp16': True, 'memory_efficient_fp16': True, 'fp16_no_flatten_grads': False, 'fp16_init_scale': 4, 'fp16_scale_window': 128, 'fp16_scale_tolerance': 0.0, 'on_cpu_convert_precision': False, 'min_loss_scale': 0.0001, 'threshold_loss_scale': 1.0, 'amp': False, 'amp_batch_retries': 2, 'amp_init_scale': 128, 'amp_scale_window': None, 'user_dir': None, 'empty_cache_freq': 0, 'all_gather_list_size': 16384, 'model_parallel_size': 1, 'quantization_config_path': None, 'profile': False, 'reset_logging': False, 'suppress_crashes': False, 'use_plasma_view': False, 'plasma_path': '/tmp/plasma'}, 'common_eval': {'_name': None, 'path': None, 'post_process': None, 'quiet': False, 'model_overrides': '{}', 'results_path': None}, 'distributed_training': {'_name': None, 'distributed_world_size': 512, 'distributed_num_procs': 2, 'distributed_rank': 0, 'distributed_backend': 'nccl', 'distributed_init_method': None, 'distributed_port': 19812, 'device_id': 0, 'distributed_no_spawn': False, 'ddp_backend': 'c10d', 'ddp_comm_hook': 'none', 'bucket_cap_mb': 200, 'fix_batches_to_gpus': False, 'find_unused_parameters': True, 'gradient_as_bucket_view': False, 'fast_stat_sync': False, 'heartbeat_timeout': -1, 'broadcast_buffers': False, 'slowmo_momentum': None, 'slowmo_base_algorithm': 'localsgd', 'localsgd_frequency': 3, 'nprocs_per_node': 2, 'pipeline_model_parallel': False, 'pipeline_balance': None, 'pipeline_devices': None, 'pipeline_chunks': 0, 'pipeline_encoder_balance': None, 'pipeline_encoder_devices': None, 'pipeline_decoder_balance': None, 'pipeline_decoder_devices': None, 'pipeline_checkpoint': 'never', 'zero_sharding': 'none', 'fp16': True, 'memory_efficient_fp16': True, 'tpu': True, 'no_reshard_after_forward': False, 'fp32_reduce_scatter': False, 'cpu_offload': False, 'use_sharded_state': False, 'not_fsdp_flatten_parameters': False}, 'dataset': {'_name': None, 'num_workers': 2, 'skip_invalid_size_inputs_valid_test': True, 'max_tokens': 999999, 'batch_size': None, 'required_batch_size_multiple': 1, 'required_seq_len_multiple': 1, 'dataset_impl': 'mmap', 'data_buffer_size': 10, 'train_subset': 'train', 'valid_subset': 'valid', 'combine_valid_subsets': None, 'ignore_unused_valid_subsets': False, 'validate_interval': 1, 'validate_interval_updates': 0, 'validate_after_updates': 0, 'fixed_validation_seed': None, 'disable_validation': False, 'max_tokens_valid': 999999, 'batch_size_valid': None, 'max_valid_steps': None, 'curriculum': 0, 'gen_subset': 'test', 'num_shards': 1, 'shard_id': 0, 'grouped_shuffling': False, 'update_epoch_batch_itr': True, 'update_ordered_indices_seed': False}, 'optimization': {'_name': None, 'max_epoch': 0, 'max_update': 500000, 'stop_time_hours': 0.0, 'clip_norm': 0.0, 'sentence_avg': False, 'update_freq': [1], 'lr': [0.0006], 'stop_min_lr': -1.0, 'use_bmuf': False, 'skip_remainder_batch': False}, 'checkpoint': {'_name': None, 'save_dir': 'checkpoints', 'restore_file': 'checkpoint_last.pt', 'continue_once': None, 'finetune_from_model': None, 'reset_dataloader': True, 'reset_lr_scheduler': False, 'reset_meters': False, 'reset_optimizer': False, 'optimizer_overrides': '{}', 'save_interval': 1, 'save_interval_updates': 2000, 'keep_interval_updates': -1, 'keep_interval_updates_pattern': -1, 'keep_last_epochs': -1, 'keep_best_checkpoints': -1, 'no_save': False, 'no_epoch_checkpoints': True, 'no_last_checkpoints': False, 'no_save_optimizer_state': False, 'best_checkpoint_metric': 'loss', 'maximize_best_checkpoint_metric': False, 'patience': -1, 'checkpoint_suffix': '', 'checkpoint_shard_count': 1, 'load_checkpoint_on_all_dp_ranks': False, 'write_checkpoints_asynchronously': False, 'model_parallel_size': 1}, 'bmuf': {'_name': None, 'block_lr': 1.0, 'block_momentum': 0.875, 'global_sync_iter': 10, 'warmup_iterations': 500, 'use_nbm': False, 'average_sync': False, 'distributed_world_size': 512}, 'generation': {'_name': None, 'beam': 5, 'nbest': 1, 'max_len_a': 0.0, 'max_len_b': 200, 'min_len': 1, 'match_source_len': False, 'unnormalized': False, 'no_early_stop': False, 'no_beamable_mm': False, 'lenpen': 1.0, 'unkpen': 0.0, 'replace_unk': None, 'sacrebleu': False, 'score_reference': False, 'prefix_size': 0, 'no_repeat_ngram_size': 0, 'sampling': False, 'sampling_topk': -1, 'sampling_topp': -1.0, 'constraints': None, 'temperature': 1.0, 'diverse_beam_groups': -1, 'diverse_beam_strength': 0.5, 'diversity_rate': -1.0, 'print_alignment': None, 'print_step': False, 'lm_path': None, 'lm_weight': 0.0, 'iter_decode_eos_penalty': 0.0, 'iter_decode_max_iter': 10, 'iter_decode_force_max_iter': False, 'iter_decode_with_beam': 1, 'iter_decode_with_external_reranker': False, 'retain_iter_history': False, 'retain_dropout': False, 'retain_dropout_modules': None, 'decoding_format': None, 'no_seed_provided': False}, 'eval_lm': {'_name': None, 'output_word_probs': False, 'output_word_stats': False, 'context_window': 0, 'softmax_batch': 9223372036854775807}, 'interactive': {'_name': None, 'buffer_size': 0, 'input': '-'}, 'model': Namespace(_name='roberta_base', activation_dropout=0.0, activation_fn='gelu', adam_betas='(0.9, 0.98)', adam_eps=1e-06, adaptive_input=False, arch='roberta_base', attention_dropout=0.1, best_checkpoint_metric='loss', bpe='gpt2', bucket_cap_mb=200, clip_norm=0.0, cpu=False, criterion='masked_lm', curriculum=0, data='/homes/iws/sxian/.cache/torch/pytorch_fairseq/37d2bc14cf6332d61ed5abeb579948e6054e46cc724c7d23426382d11a31b2d6.ae5852b4abc6bf762e0b6b30f19e741aa05562471e9eb8f4a6ae261f04f9b350', dataset_impl='mmap', ddp_backend='c10d', device_id=0, disable_validation=False, distributed_backend='nccl', distributed_no_spawn=False, distributed_port=19812, distributed_rank=0, distributed_world_size=512, dropout=0.1, encoder_attention_heads=12, encoder_embed_dim=768, encoder_ffn_embed_dim=3072, encoder_layerdrop=0, encoder_layers=12, encoder_layers_to_keep=None, encoder_learned_pos=True, encoder_normalize_before=False, end_learning_rate=0.0, ffn_blocks_to_remove=-1, ffn_reg_scale_factor=0.0, find_unused_parameters=True, fix_batches_to_gpus=False, force_anneal=None, fp16=True, fp16_init_scale=4, fp16_scale_tolerance=0.0, fp16_scale_window=128, global_sync_iter=10, keep_interval_updates=-1, keep_last_epochs=-1, layernorm_embedding=True, leave_unmasked_prob=0.1, load_checkpoint_heads=True, log_format='json', log_interval=25, lr=[0.0006], lr_scheduler='polynomial_decay', mask_prob=0.15, max_epoch=0, max_positions=512, max_sentences=16, max_sentences_valid=16, max_source_positions=512, max_target_positions=512, max_tokens=999999, max_update=500000, maximize_best_checkpoint_metric=False, memory_efficient_fp16=True, mha_heads_to_keep=-1, mha_reg_scale_factor=0.0, min_loss_scale=0.0001, min_params_to_wrap=100000000, no_epoch_checkpoints=True, no_last_checkpoints=False, no_progress_bar=False, no_save=False, no_save_optimizer_state=False, no_scale_embedding=True, no_token_positional_embeddings=False, num_workers=2, only_validate=False, optimizer='adam', optimizer_overrides='{}', pooler_activation_fn='tanh', pooler_dropout=0.0, power=1.0, quant_noise_pq=0, quant_noise_pq_block_size=8, quant_noise_scalar=0, random_token_prob=0.1, required_batch_size_multiple=1, reset_dataloader=True, reset_lr_scheduler=False, reset_meters=False, reset_optimizer=False, restore_file='checkpoint_last.pt', sample_break_mode='complete', save_interval=1, save_interval_updates=2000, seed=1, sentence_avg=False, skip_invalid_size_inputs_valid_test=True, spectral_norm_classification_head=False, stop_min_lr=-1, task='masked_lm', tbmf_wrapper=False, threshold_loss_scale=1.0, tokenizer=None, tokens_per_sample=512, total_num_update=500000, train_subset='train', untie_weights_roberta=False, update_freq=[1], use_bmuf=False, user_dir=None, valid_subset='valid', validate_interval=1, warmup_updates=24000, weight_decay=0.01), 'task': {'_name': 'masked_lm', 'data': '/homes/iws/sxian/.cache/torch/pytorch_fairseq/37d2bc14cf6332d61ed5abeb579948e6054e46cc724c7d23426382d11a31b2d6.ae5852b4abc6bf762e0b6b30f19e741aa05562471e9eb8f4a6ae261f04f9b350', 'sample_break_mode': 'complete', 'tokens_per_sample': 512, 'mask_prob': 0.15, 'leave_unmasked_prob': 0.1, 'random_token_prob': 0.1, 'freq_weighted_replacement': False, 'mask_whole_words': False, 'mask_multiple_length': 1, 'mask_stdev': 0.0, 'shorten_method': 'none', 'shorten_data_split_list': '', 'seed': 1, 'include_target_tokens': False}, 'criterion': {'_name': 'masked_lm', 'tpu': True}, 'optimizer': {'_name': 'adam', 'adam_betas': '(0.9, 0.98)', 'adam_eps': 1e-06, 'weight_decay': 0.01, 'use_old_adam': False, 'fp16_adam_stats': False, 'tpu': True, 'lr': [0.0006]}, 'lr_scheduler': {'_name': 'polynomial_decay', 'warmup_updates': 24000, 'force_anneal': None, 'end_learning_rate': 0.0, 'power': 1.0, 'total_num_update': 500000.0, 'lr': [0.0006]}, 'scoring': None, 'bpe': {'_name': 'gpt2', 'gpt2_encoder_json': 'https://dl.fbaipublicfiles.com/fairseq/gpt2_bpe/encoder.json', 'gpt2_vocab_bpe': 'https://dl.fbaipublicfiles.com/fairseq/gpt2_bpe/vocab.bpe'}, 'tokenizer': None, 'ema': {'_name': None, 'store_ema': False, 'ema_decay': 0.9999, 'ema_start_update': 0, 'ema_seed_model': None, 'ema_update_freq': 1, 'ema_fp32': False}, 'simul_type': None}\n"
     ]
    },
    {
     "name": "stderr",
     "output_type": "stream",
     "text": [
      "2022-02-22 13:04:27 | INFO | fairseq.file_utils | https://dl.fbaipublicfiles.com/fairseq/gpt2_bpe/encoder.json not found in cache, downloading to /tmp/tmp_mvl50_y\n",
      "1042301B [00:00, 7052617.64B/s]\n",
      "2022-02-22 13:04:27 | INFO | fairseq.file_utils | copying /tmp/tmp_mvl50_y to cache at /homes/iws/sxian/.cache/torch/pytorch_fairseq/e2aab4d600e7568c2d88fc7732130ccc815ea84ec63906cb0913c7a3a4906a2e.0f323dfaed92d080380e63f0291d0f31adfa8c61a62cbcb3cb8114f061be27f7\n",
      "2022-02-22 13:04:27 | INFO | fairseq.file_utils | creating metadata file for /homes/iws/sxian/.cache/torch/pytorch_fairseq/e2aab4d600e7568c2d88fc7732130ccc815ea84ec63906cb0913c7a3a4906a2e.0f323dfaed92d080380e63f0291d0f31adfa8c61a62cbcb3cb8114f061be27f7\n",
      "2022-02-22 13:04:27 | INFO | fairseq.file_utils | removing temp file /tmp/tmp_mvl50_y\n",
      "2022-02-22 13:04:27 | INFO | fairseq.file_utils | https://dl.fbaipublicfiles.com/fairseq/gpt2_bpe/vocab.bpe not found in cache, downloading to /tmp/tmper6tyi86\n",
      "456318B [00:00, 9467340.12B/s]\n",
      "2022-02-22 13:04:27 | INFO | fairseq.file_utils | copying /tmp/tmper6tyi86 to cache at /homes/iws/sxian/.cache/torch/pytorch_fairseq/b04a6d337c09f464fe8f0df1d3524db88a597007d63f05d97e437f65840cdba5.939bed25cbdab15712bac084ee713d6c78e221c5156c68cb0076b03f5170600f\n",
      "2022-02-22 13:04:27 | INFO | fairseq.file_utils | creating metadata file for /homes/iws/sxian/.cache/torch/pytorch_fairseq/b04a6d337c09f464fe8f0df1d3524db88a597007d63f05d97e437f65840cdba5.939bed25cbdab15712bac084ee713d6c78e221c5156c68cb0076b03f5170600f\n",
      "2022-02-22 13:04:27 | INFO | fairseq.file_utils | removing temp file /tmp/tmper6tyi86\n"
     ]
    }
   ],
   "source": [
    "roberta = torch.hub.load('pytorch/fairseq', 'roberta.base')\n",
    "#roberta.eval()  # disable dropout (or leave in train mode to finetune)"
   ]
  },
  {
   "cell_type": "code",
   "execution_count": null,
   "id": "87984074",
   "metadata": {},
   "outputs": [],
   "source": [
    "roberta.eval()"
   ]
  },
  {
   "cell_type": "code",
   "execution_count": null,
   "id": "8d117ad6",
   "metadata": {},
   "outputs": [],
   "source": [
    "tokens = roberta.encode('Hello world!')\n",
    "assert tokens.tolist() == [0, 31414, 232, 328, 2]\n",
    "roberta.decode(tokens)  # 'Hello world!'"
   ]
  },
  {
   "cell_type": "markdown",
   "id": "6caa40bb",
   "metadata": {},
   "source": [
    "# preprocess concatenate all text files into one"
   ]
  },
  {
   "cell_type": "code",
   "execution_count": 24,
   "id": "afcaed60",
   "metadata": {},
   "outputs": [],
   "source": [
    "import re"
   ]
  },
  {
   "cell_type": "code",
   "execution_count": 14,
   "id": "e39201e1",
   "metadata": {},
   "outputs": [
    {
     "name": "stderr",
     "output_type": "stream",
     "text": [
      "[nltk_data] Downloading package punkt to /homes/iws/sxian/nltk_data...\n",
      "[nltk_data]   Unzipping tokenizers/punkt.zip.\n"
     ]
    },
    {
     "data": {
      "text/plain": [
       "True"
      ]
     },
     "execution_count": 14,
     "metadata": {},
     "output_type": "execute_result"
    }
   ],
   "source": [
    "import nltk\n",
    "nltk.download('punkt')"
   ]
  },
  {
   "cell_type": "code",
   "execution_count": 7,
   "id": "17a601af",
   "metadata": {},
   "outputs": [],
   "source": [
    "import os\n",
    "workdir = \"/homes/iws/sxian/autoencoder/bookcorpus/bookCorpus.txt/\"\n",
    "allfiles = os.listdir(workdir)"
   ]
  },
  {
   "cell_type": "code",
   "execution_count": 30,
   "id": "57c59168",
   "metadata": {},
   "outputs": [],
   "source": [
    "with open(workdir+allfiles[0]) as f:\n",
    "    txt = f.read()"
   ]
  },
  {
   "cell_type": "code",
   "execution_count": 31,
   "id": "f0f06eba",
   "metadata": {
    "scrolled": true
   },
   "outputs": [],
   "source": [
    "txt =nltk.sent_tokenize(txt)"
   ]
  },
  {
   "cell_type": "code",
   "execution_count": 25,
   "id": "c9171b9e",
   "metadata": {},
   "outputs": [],
   "source": [
    "is_word = re.compile('\\w')"
   ]
  },
  {
   "cell_type": "code",
   "execution_count": 34,
   "id": "5c4923de",
   "metadata": {},
   "outputs": [],
   "source": [
    "# preprocess book corpous!\n",
    "with open(\"/homes/iws/sxian/autoencoder/salmon/processed/bookSentences.txt\",\"w\") as out:\n",
    "    for fe in allfiles:\n",
    "        with open(workdir+fe,\"r\") as f:\n",
    "            txt = f.read()\n",
    "        txt = nltk.sent_tokenize(txt)\n",
    "        for line in txt:\n",
    "            line = nltk.word_tokenize(line)\n",
    "            out.write(\" \".join(line)+\"\\n\")"
   ]
  },
  {
   "cell_type": "code",
   "execution_count": 39,
   "id": "1fb09f01",
   "metadata": {},
   "outputs": [],
   "source": [
    "# preprocess wikitext!\n",
    "\n",
    "workdir = \"/homes/iws/sxian/autoencoder/wikiextractor/text/\"\n",
    "allfiles = os.listdir(workdir)\n",
    "\n",
    "with open(\"/homes/iws/sxian/autoencoder/salmon/processed/wikiSentences.txt\",\"w\") as out:\n",
    "    for _f in allfiles:\n",
    "        allfiles_subdir = os.listdir(workdir + _f +\"/\")\n",
    "        for fe in allfiles_subdir:\n",
    "            with open(workdir + _f +\"/\"+ fe,\"r\") as f:\n",
    "                txt = f.read()\n",
    "            txt = nltk.sent_tokenize(txt)\n",
    "            for line in txt:\n",
    "                line = nltk.word_tokenize(line)\n",
    "                out.write(\" \".join(line)+\"\\n\")"
   ]
  },
  {
   "cell_type": "markdown",
   "id": "fcd036cd",
   "metadata": {},
   "source": [
    "# split into train,valid,test"
   ]
  },
  {
   "cell_type": "code",
   "execution_count": 40,
   "id": "ac213780",
   "metadata": {},
   "outputs": [
    {
     "name": "stdout",
     "output_type": "stream",
     "text": [
      "number of lines 13173826\n"
     ]
    }
   ],
   "source": [
    "with open(\"/homes/iws/sxian/autoencoder/salmon/processed/train.txt\",\"r\") as f:\n",
    "    whole_datasets = f.read()\n",
    "whole_datasets = whole_datasets.split(\"\\n\")\n",
    "print(f'number of lines {len(whole_datasets)}')"
   ]
  },
  {
   "cell_type": "code",
   "execution_count": 44,
   "id": "69f741b7",
   "metadata": {},
   "outputs": [],
   "source": [
    "n = 13173826\n",
    "train_L, valid_L = int(np.ceil(n * .8)), int(np.ceil(n * .1))\n",
    "test_L = n - train_L - valid_L"
   ]
  },
  {
   "cell_type": "code",
   "execution_count": 45,
   "id": "393d9c7e",
   "metadata": {},
   "outputs": [
    {
     "data": {
      "text/plain": [
       "(10539061, 1317383, 1317382)"
      ]
     },
     "execution_count": 45,
     "metadata": {},
     "output_type": "execute_result"
    }
   ],
   "source": [
    "train_L, valid_L, test_L"
   ]
  },
  {
   "cell_type": "code",
   "execution_count": 47,
   "id": "0f2e91a8",
   "metadata": {},
   "outputs": [],
   "source": [
    "with open(\"/homes/iws/sxian/autoencoder/salmon/processed/whole_dataset.txt\",\"w\") as f:\n",
    "    for line in whole_datasets:\n",
    "        f.write(line+\"\\n\")"
   ]
  },
  {
   "cell_type": "code",
   "execution_count": null,
   "id": "b091205b",
   "metadata": {},
   "outputs": [],
   "source": [
    "whole_datasets[valid_L:test_L]"
   ]
  },
  {
   "cell_type": "code",
   "execution_count": 51,
   "id": "5de362eb",
   "metadata": {},
   "outputs": [
    {
     "data": {
      "text/plain": [
       "'train_L'"
      ]
     },
     "execution_count": 51,
     "metadata": {},
     "output_type": "execute_result"
    }
   ],
   "source": [
    "term+suf"
   ]
  },
  {
   "cell_type": "code",
   "execution_count": 53,
   "id": "4faae829",
   "metadata": {},
   "outputs": [],
   "source": [
    "suf = \"_L\"\n",
    "cur = 0\n",
    "for term,size in zip([\"train\",\"valid\",\"test\"],[train_L, valid_L, test_L]):\n",
    "    with open(\"/homes/iws/sxian/autoencoder/salmon/processed/\"+ term +\".txt\",\"w\") as f:\n",
    "        for line in whole_datasets[cur:size]:\n",
    "            f.write(line + \"\\n\")\n",
    "    cur = size"
   ]
  },
  {
   "cell_type": "markdown",
   "id": "4fd35dd5",
   "metadata": {},
   "source": [
    "# download datasets for sentence representation (similarity evaluation)"
   ]
  },
  {
   "cell_type": "code",
   "execution_count": 14,
   "id": "840a5ce6",
   "metadata": {},
   "outputs": [],
   "source": [
    "import pandas as pd"
   ]
  },
  {
   "cell_type": "code",
   "execution_count": 1,
   "id": "cce34933",
   "metadata": {},
   "outputs": [
    {
     "name": "stdout",
     "output_type": "stream",
     "text": [
      "Beginning download of datasets\n"
     ]
    }
   ],
   "source": [
    "import urllib.request\n",
    "import zipfile\n",
    "import os\n",
    "\n",
    "print('Beginning download of datasets')\n",
    "datasets = ['AllNLI.zip', 'stsbenchmark.zip', 'wikipedia-sections-triplets.zip', 'STS2017.en-de.txt.gz', 'TED2013-en-de.txt.gz', 'xnli-en-de.txt.gz']\n",
    "\n",
    "server = \"https://sbert.net/datasets/\"\n",
    "\n",
    "# 'TED2013-en-de.txt.gz' and xnli-en-de.txt.gz no longer exists"
   ]
  },
  {
   "cell_type": "code",
   "execution_count": 7,
   "id": "f13b9b3f",
   "metadata": {},
   "outputs": [
    {
     "data": {
      "text/plain": [
       "'https://sbert.net/datasets/AllNLI.zip'"
      ]
     },
     "execution_count": 7,
     "metadata": {},
     "output_type": "execute_result"
    }
   ],
   "source": [
    "url"
   ]
  },
  {
   "cell_type": "code",
   "execution_count": 11,
   "id": "67c73909",
   "metadata": {},
   "outputs": [],
   "source": [
    "# need to add header to download dataset\n",
    "opener = urllib.request.build_opener()\n",
    "opener.addheaders = [('User-agent', 'Mozilla/5.0')]\n",
    "urllib.request.install_opener(opener)"
   ]
  },
  {
   "cell_type": "code",
   "execution_count": 12,
   "id": "217952d0",
   "metadata": {
    "scrolled": true
   },
   "outputs": [
    {
     "name": "stdout",
     "output_type": "stream",
     "text": [
      "Download AllNLI.zip\n",
      "Extract AllNLI.zip\n",
      "Download stsbenchmark.zip\n",
      "Extract stsbenchmark.zip\n",
      "Download wikipedia-sections-triplets.zip\n",
      "Extract wikipedia-sections-triplets.zip\n",
      "Download STS2017.en-de.txt.gz\n"
     ]
    },
    {
     "ename": "HTTPError",
     "evalue": "HTTP Error 404: Not Found",
     "output_type": "error",
     "traceback": [
      "\u001b[0;31m---------------------------------------------------------------------------\u001b[0m",
      "\u001b[0;31mHTTPError\u001b[0m                                 Traceback (most recent call last)",
      "\u001b[0;32m/tmp/ipykernel_593781/2920464946.py\u001b[0m in \u001b[0;36m<module>\u001b[0;34m\u001b[0m\n\u001b[1;32m      5\u001b[0m     \u001b[0murl\u001b[0m \u001b[0;34m=\u001b[0m \u001b[0mserver\u001b[0m\u001b[0;34m+\u001b[0m\u001b[0mdataset\u001b[0m\u001b[0;34m\u001b[0m\u001b[0;34m\u001b[0m\u001b[0m\n\u001b[1;32m      6\u001b[0m     \u001b[0mdataset_path\u001b[0m \u001b[0;34m=\u001b[0m \u001b[0mos\u001b[0m\u001b[0;34m.\u001b[0m\u001b[0mpath\u001b[0m\u001b[0;34m.\u001b[0m\u001b[0mjoin\u001b[0m\u001b[0;34m(\u001b[0m\u001b[0mfolder_path\u001b[0m\u001b[0;34m,\u001b[0m \u001b[0mdataset\u001b[0m\u001b[0;34m)\u001b[0m\u001b[0;34m\u001b[0m\u001b[0;34m\u001b[0m\u001b[0m\n\u001b[0;32m----> 7\u001b[0;31m     \u001b[0murllib\u001b[0m\u001b[0;34m.\u001b[0m\u001b[0mrequest\u001b[0m\u001b[0;34m.\u001b[0m\u001b[0murlretrieve\u001b[0m\u001b[0;34m(\u001b[0m\u001b[0murl\u001b[0m\u001b[0;34m,\u001b[0m \u001b[0mdataset_path\u001b[0m\u001b[0;34m)\u001b[0m\u001b[0;34m\u001b[0m\u001b[0;34m\u001b[0m\u001b[0m\n\u001b[0m\u001b[1;32m      8\u001b[0m \u001b[0;34m\u001b[0m\u001b[0m\n\u001b[1;32m      9\u001b[0m     \u001b[0;32mif\u001b[0m \u001b[0mdataset\u001b[0m\u001b[0;34m.\u001b[0m\u001b[0mendswith\u001b[0m\u001b[0;34m(\u001b[0m\u001b[0;34m'.zip'\u001b[0m\u001b[0;34m)\u001b[0m\u001b[0;34m:\u001b[0m\u001b[0;34m\u001b[0m\u001b[0;34m\u001b[0m\u001b[0m\n",
      "\u001b[0;32m~/miniconda3/envs/py3.7/lib/python3.7/urllib/request.py\u001b[0m in \u001b[0;36murlretrieve\u001b[0;34m(url, filename, reporthook, data)\u001b[0m\n\u001b[1;32m    245\u001b[0m     \u001b[0murl_type\u001b[0m\u001b[0;34m,\u001b[0m \u001b[0mpath\u001b[0m \u001b[0;34m=\u001b[0m \u001b[0msplittype\u001b[0m\u001b[0;34m(\u001b[0m\u001b[0murl\u001b[0m\u001b[0;34m)\u001b[0m\u001b[0;34m\u001b[0m\u001b[0;34m\u001b[0m\u001b[0m\n\u001b[1;32m    246\u001b[0m \u001b[0;34m\u001b[0m\u001b[0m\n\u001b[0;32m--> 247\u001b[0;31m     \u001b[0;32mwith\u001b[0m \u001b[0mcontextlib\u001b[0m\u001b[0;34m.\u001b[0m\u001b[0mclosing\u001b[0m\u001b[0;34m(\u001b[0m\u001b[0murlopen\u001b[0m\u001b[0;34m(\u001b[0m\u001b[0murl\u001b[0m\u001b[0;34m,\u001b[0m \u001b[0mdata\u001b[0m\u001b[0;34m)\u001b[0m\u001b[0;34m)\u001b[0m \u001b[0;32mas\u001b[0m \u001b[0mfp\u001b[0m\u001b[0;34m:\u001b[0m\u001b[0;34m\u001b[0m\u001b[0;34m\u001b[0m\u001b[0m\n\u001b[0m\u001b[1;32m    248\u001b[0m         \u001b[0mheaders\u001b[0m \u001b[0;34m=\u001b[0m \u001b[0mfp\u001b[0m\u001b[0;34m.\u001b[0m\u001b[0minfo\u001b[0m\u001b[0;34m(\u001b[0m\u001b[0;34m)\u001b[0m\u001b[0;34m\u001b[0m\u001b[0;34m\u001b[0m\u001b[0m\n\u001b[1;32m    249\u001b[0m \u001b[0;34m\u001b[0m\u001b[0m\n",
      "\u001b[0;32m~/miniconda3/envs/py3.7/lib/python3.7/urllib/request.py\u001b[0m in \u001b[0;36murlopen\u001b[0;34m(url, data, timeout, cafile, capath, cadefault, context)\u001b[0m\n\u001b[1;32m    220\u001b[0m     \u001b[0;32melse\u001b[0m\u001b[0;34m:\u001b[0m\u001b[0;34m\u001b[0m\u001b[0;34m\u001b[0m\u001b[0m\n\u001b[1;32m    221\u001b[0m         \u001b[0mopener\u001b[0m \u001b[0;34m=\u001b[0m \u001b[0m_opener\u001b[0m\u001b[0;34m\u001b[0m\u001b[0;34m\u001b[0m\u001b[0m\n\u001b[0;32m--> 222\u001b[0;31m     \u001b[0;32mreturn\u001b[0m \u001b[0mopener\u001b[0m\u001b[0;34m.\u001b[0m\u001b[0mopen\u001b[0m\u001b[0;34m(\u001b[0m\u001b[0murl\u001b[0m\u001b[0;34m,\u001b[0m \u001b[0mdata\u001b[0m\u001b[0;34m,\u001b[0m \u001b[0mtimeout\u001b[0m\u001b[0;34m)\u001b[0m\u001b[0;34m\u001b[0m\u001b[0;34m\u001b[0m\u001b[0m\n\u001b[0m\u001b[1;32m    223\u001b[0m \u001b[0;34m\u001b[0m\u001b[0m\n\u001b[1;32m    224\u001b[0m \u001b[0;32mdef\u001b[0m \u001b[0minstall_opener\u001b[0m\u001b[0;34m(\u001b[0m\u001b[0mopener\u001b[0m\u001b[0;34m)\u001b[0m\u001b[0;34m:\u001b[0m\u001b[0;34m\u001b[0m\u001b[0;34m\u001b[0m\u001b[0m\n",
      "\u001b[0;32m~/miniconda3/envs/py3.7/lib/python3.7/urllib/request.py\u001b[0m in \u001b[0;36mopen\u001b[0;34m(self, fullurl, data, timeout)\u001b[0m\n\u001b[1;32m    529\u001b[0m         \u001b[0;32mfor\u001b[0m \u001b[0mprocessor\u001b[0m \u001b[0;32min\u001b[0m \u001b[0mself\u001b[0m\u001b[0;34m.\u001b[0m\u001b[0mprocess_response\u001b[0m\u001b[0;34m.\u001b[0m\u001b[0mget\u001b[0m\u001b[0;34m(\u001b[0m\u001b[0mprotocol\u001b[0m\u001b[0;34m,\u001b[0m \u001b[0;34m[\u001b[0m\u001b[0;34m]\u001b[0m\u001b[0;34m)\u001b[0m\u001b[0;34m:\u001b[0m\u001b[0;34m\u001b[0m\u001b[0;34m\u001b[0m\u001b[0m\n\u001b[1;32m    530\u001b[0m             \u001b[0mmeth\u001b[0m \u001b[0;34m=\u001b[0m \u001b[0mgetattr\u001b[0m\u001b[0;34m(\u001b[0m\u001b[0mprocessor\u001b[0m\u001b[0;34m,\u001b[0m \u001b[0mmeth_name\u001b[0m\u001b[0;34m)\u001b[0m\u001b[0;34m\u001b[0m\u001b[0;34m\u001b[0m\u001b[0m\n\u001b[0;32m--> 531\u001b[0;31m             \u001b[0mresponse\u001b[0m \u001b[0;34m=\u001b[0m \u001b[0mmeth\u001b[0m\u001b[0;34m(\u001b[0m\u001b[0mreq\u001b[0m\u001b[0;34m,\u001b[0m \u001b[0mresponse\u001b[0m\u001b[0;34m)\u001b[0m\u001b[0;34m\u001b[0m\u001b[0;34m\u001b[0m\u001b[0m\n\u001b[0m\u001b[1;32m    532\u001b[0m \u001b[0;34m\u001b[0m\u001b[0m\n\u001b[1;32m    533\u001b[0m         \u001b[0;32mreturn\u001b[0m \u001b[0mresponse\u001b[0m\u001b[0;34m\u001b[0m\u001b[0;34m\u001b[0m\u001b[0m\n",
      "\u001b[0;32m~/miniconda3/envs/py3.7/lib/python3.7/urllib/request.py\u001b[0m in \u001b[0;36mhttp_response\u001b[0;34m(self, request, response)\u001b[0m\n\u001b[1;32m    639\u001b[0m         \u001b[0;32mif\u001b[0m \u001b[0;32mnot\u001b[0m \u001b[0;34m(\u001b[0m\u001b[0;36m200\u001b[0m \u001b[0;34m<=\u001b[0m \u001b[0mcode\u001b[0m \u001b[0;34m<\u001b[0m \u001b[0;36m300\u001b[0m\u001b[0;34m)\u001b[0m\u001b[0;34m:\u001b[0m\u001b[0;34m\u001b[0m\u001b[0;34m\u001b[0m\u001b[0m\n\u001b[1;32m    640\u001b[0m             response = self.parent.error(\n\u001b[0;32m--> 641\u001b[0;31m                 'http', request, response, code, msg, hdrs)\n\u001b[0m\u001b[1;32m    642\u001b[0m \u001b[0;34m\u001b[0m\u001b[0m\n\u001b[1;32m    643\u001b[0m         \u001b[0;32mreturn\u001b[0m \u001b[0mresponse\u001b[0m\u001b[0;34m\u001b[0m\u001b[0;34m\u001b[0m\u001b[0m\n",
      "\u001b[0;32m~/miniconda3/envs/py3.7/lib/python3.7/urllib/request.py\u001b[0m in \u001b[0;36merror\u001b[0;34m(self, proto, *args)\u001b[0m\n\u001b[1;32m    561\u001b[0m             \u001b[0mhttp_err\u001b[0m \u001b[0;34m=\u001b[0m \u001b[0;36m0\u001b[0m\u001b[0;34m\u001b[0m\u001b[0;34m\u001b[0m\u001b[0m\n\u001b[1;32m    562\u001b[0m         \u001b[0margs\u001b[0m \u001b[0;34m=\u001b[0m \u001b[0;34m(\u001b[0m\u001b[0mdict\u001b[0m\u001b[0;34m,\u001b[0m \u001b[0mproto\u001b[0m\u001b[0;34m,\u001b[0m \u001b[0mmeth_name\u001b[0m\u001b[0;34m)\u001b[0m \u001b[0;34m+\u001b[0m \u001b[0margs\u001b[0m\u001b[0;34m\u001b[0m\u001b[0;34m\u001b[0m\u001b[0m\n\u001b[0;32m--> 563\u001b[0;31m         \u001b[0mresult\u001b[0m \u001b[0;34m=\u001b[0m \u001b[0mself\u001b[0m\u001b[0;34m.\u001b[0m\u001b[0m_call_chain\u001b[0m\u001b[0;34m(\u001b[0m\u001b[0;34m*\u001b[0m\u001b[0margs\u001b[0m\u001b[0;34m)\u001b[0m\u001b[0;34m\u001b[0m\u001b[0;34m\u001b[0m\u001b[0m\n\u001b[0m\u001b[1;32m    564\u001b[0m         \u001b[0;32mif\u001b[0m \u001b[0mresult\u001b[0m\u001b[0;34m:\u001b[0m\u001b[0;34m\u001b[0m\u001b[0;34m\u001b[0m\u001b[0m\n\u001b[1;32m    565\u001b[0m             \u001b[0;32mreturn\u001b[0m \u001b[0mresult\u001b[0m\u001b[0;34m\u001b[0m\u001b[0;34m\u001b[0m\u001b[0m\n",
      "\u001b[0;32m~/miniconda3/envs/py3.7/lib/python3.7/urllib/request.py\u001b[0m in \u001b[0;36m_call_chain\u001b[0;34m(self, chain, kind, meth_name, *args)\u001b[0m\n\u001b[1;32m    501\u001b[0m         \u001b[0;32mfor\u001b[0m \u001b[0mhandler\u001b[0m \u001b[0;32min\u001b[0m \u001b[0mhandlers\u001b[0m\u001b[0;34m:\u001b[0m\u001b[0;34m\u001b[0m\u001b[0;34m\u001b[0m\u001b[0m\n\u001b[1;32m    502\u001b[0m             \u001b[0mfunc\u001b[0m \u001b[0;34m=\u001b[0m \u001b[0mgetattr\u001b[0m\u001b[0;34m(\u001b[0m\u001b[0mhandler\u001b[0m\u001b[0;34m,\u001b[0m \u001b[0mmeth_name\u001b[0m\u001b[0;34m)\u001b[0m\u001b[0;34m\u001b[0m\u001b[0;34m\u001b[0m\u001b[0m\n\u001b[0;32m--> 503\u001b[0;31m             \u001b[0mresult\u001b[0m \u001b[0;34m=\u001b[0m \u001b[0mfunc\u001b[0m\u001b[0;34m(\u001b[0m\u001b[0;34m*\u001b[0m\u001b[0margs\u001b[0m\u001b[0;34m)\u001b[0m\u001b[0;34m\u001b[0m\u001b[0;34m\u001b[0m\u001b[0m\n\u001b[0m\u001b[1;32m    504\u001b[0m             \u001b[0;32mif\u001b[0m \u001b[0mresult\u001b[0m \u001b[0;32mis\u001b[0m \u001b[0;32mnot\u001b[0m \u001b[0;32mNone\u001b[0m\u001b[0;34m:\u001b[0m\u001b[0;34m\u001b[0m\u001b[0;34m\u001b[0m\u001b[0m\n\u001b[1;32m    505\u001b[0m                 \u001b[0;32mreturn\u001b[0m \u001b[0mresult\u001b[0m\u001b[0;34m\u001b[0m\u001b[0;34m\u001b[0m\u001b[0m\n",
      "\u001b[0;32m~/miniconda3/envs/py3.7/lib/python3.7/urllib/request.py\u001b[0m in \u001b[0;36mhttp_error_302\u001b[0;34m(self, req, fp, code, msg, headers)\u001b[0m\n\u001b[1;32m    753\u001b[0m         \u001b[0mfp\u001b[0m\u001b[0;34m.\u001b[0m\u001b[0mclose\u001b[0m\u001b[0;34m(\u001b[0m\u001b[0;34m)\u001b[0m\u001b[0;34m\u001b[0m\u001b[0;34m\u001b[0m\u001b[0m\n\u001b[1;32m    754\u001b[0m \u001b[0;34m\u001b[0m\u001b[0m\n\u001b[0;32m--> 755\u001b[0;31m         \u001b[0;32mreturn\u001b[0m \u001b[0mself\u001b[0m\u001b[0;34m.\u001b[0m\u001b[0mparent\u001b[0m\u001b[0;34m.\u001b[0m\u001b[0mopen\u001b[0m\u001b[0;34m(\u001b[0m\u001b[0mnew\u001b[0m\u001b[0;34m,\u001b[0m \u001b[0mtimeout\u001b[0m\u001b[0;34m=\u001b[0m\u001b[0mreq\u001b[0m\u001b[0;34m.\u001b[0m\u001b[0mtimeout\u001b[0m\u001b[0;34m)\u001b[0m\u001b[0;34m\u001b[0m\u001b[0;34m\u001b[0m\u001b[0m\n\u001b[0m\u001b[1;32m    756\u001b[0m \u001b[0;34m\u001b[0m\u001b[0m\n\u001b[1;32m    757\u001b[0m     \u001b[0mhttp_error_301\u001b[0m \u001b[0;34m=\u001b[0m \u001b[0mhttp_error_303\u001b[0m \u001b[0;34m=\u001b[0m \u001b[0mhttp_error_307\u001b[0m \u001b[0;34m=\u001b[0m \u001b[0mhttp_error_302\u001b[0m\u001b[0;34m\u001b[0m\u001b[0;34m\u001b[0m\u001b[0m\n",
      "\u001b[0;32m~/miniconda3/envs/py3.7/lib/python3.7/urllib/request.py\u001b[0m in \u001b[0;36mopen\u001b[0;34m(self, fullurl, data, timeout)\u001b[0m\n\u001b[1;32m    529\u001b[0m         \u001b[0;32mfor\u001b[0m \u001b[0mprocessor\u001b[0m \u001b[0;32min\u001b[0m \u001b[0mself\u001b[0m\u001b[0;34m.\u001b[0m\u001b[0mprocess_response\u001b[0m\u001b[0;34m.\u001b[0m\u001b[0mget\u001b[0m\u001b[0;34m(\u001b[0m\u001b[0mprotocol\u001b[0m\u001b[0;34m,\u001b[0m \u001b[0;34m[\u001b[0m\u001b[0;34m]\u001b[0m\u001b[0;34m)\u001b[0m\u001b[0;34m:\u001b[0m\u001b[0;34m\u001b[0m\u001b[0;34m\u001b[0m\u001b[0m\n\u001b[1;32m    530\u001b[0m             \u001b[0mmeth\u001b[0m \u001b[0;34m=\u001b[0m \u001b[0mgetattr\u001b[0m\u001b[0;34m(\u001b[0m\u001b[0mprocessor\u001b[0m\u001b[0;34m,\u001b[0m \u001b[0mmeth_name\u001b[0m\u001b[0;34m)\u001b[0m\u001b[0;34m\u001b[0m\u001b[0;34m\u001b[0m\u001b[0m\n\u001b[0;32m--> 531\u001b[0;31m             \u001b[0mresponse\u001b[0m \u001b[0;34m=\u001b[0m \u001b[0mmeth\u001b[0m\u001b[0;34m(\u001b[0m\u001b[0mreq\u001b[0m\u001b[0;34m,\u001b[0m \u001b[0mresponse\u001b[0m\u001b[0;34m)\u001b[0m\u001b[0;34m\u001b[0m\u001b[0;34m\u001b[0m\u001b[0m\n\u001b[0m\u001b[1;32m    532\u001b[0m \u001b[0;34m\u001b[0m\u001b[0m\n\u001b[1;32m    533\u001b[0m         \u001b[0;32mreturn\u001b[0m \u001b[0mresponse\u001b[0m\u001b[0;34m\u001b[0m\u001b[0;34m\u001b[0m\u001b[0m\n",
      "\u001b[0;32m~/miniconda3/envs/py3.7/lib/python3.7/urllib/request.py\u001b[0m in \u001b[0;36mhttp_response\u001b[0;34m(self, request, response)\u001b[0m\n\u001b[1;32m    639\u001b[0m         \u001b[0;32mif\u001b[0m \u001b[0;32mnot\u001b[0m \u001b[0;34m(\u001b[0m\u001b[0;36m200\u001b[0m \u001b[0;34m<=\u001b[0m \u001b[0mcode\u001b[0m \u001b[0;34m<\u001b[0m \u001b[0;36m300\u001b[0m\u001b[0;34m)\u001b[0m\u001b[0;34m:\u001b[0m\u001b[0;34m\u001b[0m\u001b[0;34m\u001b[0m\u001b[0m\n\u001b[1;32m    640\u001b[0m             response = self.parent.error(\n\u001b[0;32m--> 641\u001b[0;31m                 'http', request, response, code, msg, hdrs)\n\u001b[0m\u001b[1;32m    642\u001b[0m \u001b[0;34m\u001b[0m\u001b[0m\n\u001b[1;32m    643\u001b[0m         \u001b[0;32mreturn\u001b[0m \u001b[0mresponse\u001b[0m\u001b[0;34m\u001b[0m\u001b[0;34m\u001b[0m\u001b[0m\n",
      "\u001b[0;32m~/miniconda3/envs/py3.7/lib/python3.7/urllib/request.py\u001b[0m in \u001b[0;36merror\u001b[0;34m(self, proto, *args)\u001b[0m\n\u001b[1;32m    567\u001b[0m         \u001b[0;32mif\u001b[0m \u001b[0mhttp_err\u001b[0m\u001b[0;34m:\u001b[0m\u001b[0;34m\u001b[0m\u001b[0;34m\u001b[0m\u001b[0m\n\u001b[1;32m    568\u001b[0m             \u001b[0margs\u001b[0m \u001b[0;34m=\u001b[0m \u001b[0;34m(\u001b[0m\u001b[0mdict\u001b[0m\u001b[0;34m,\u001b[0m \u001b[0;34m'default'\u001b[0m\u001b[0;34m,\u001b[0m \u001b[0;34m'http_error_default'\u001b[0m\u001b[0;34m)\u001b[0m \u001b[0;34m+\u001b[0m \u001b[0morig_args\u001b[0m\u001b[0;34m\u001b[0m\u001b[0;34m\u001b[0m\u001b[0m\n\u001b[0;32m--> 569\u001b[0;31m             \u001b[0;32mreturn\u001b[0m \u001b[0mself\u001b[0m\u001b[0;34m.\u001b[0m\u001b[0m_call_chain\u001b[0m\u001b[0;34m(\u001b[0m\u001b[0;34m*\u001b[0m\u001b[0margs\u001b[0m\u001b[0;34m)\u001b[0m\u001b[0;34m\u001b[0m\u001b[0;34m\u001b[0m\u001b[0m\n\u001b[0m\u001b[1;32m    570\u001b[0m \u001b[0;34m\u001b[0m\u001b[0m\n\u001b[1;32m    571\u001b[0m \u001b[0;31m# XXX probably also want an abstract factory that knows when it makes\u001b[0m\u001b[0;34m\u001b[0m\u001b[0;34m\u001b[0m\u001b[0;34m\u001b[0m\u001b[0m\n",
      "\u001b[0;32m~/miniconda3/envs/py3.7/lib/python3.7/urllib/request.py\u001b[0m in \u001b[0;36m_call_chain\u001b[0;34m(self, chain, kind, meth_name, *args)\u001b[0m\n\u001b[1;32m    501\u001b[0m         \u001b[0;32mfor\u001b[0m \u001b[0mhandler\u001b[0m \u001b[0;32min\u001b[0m \u001b[0mhandlers\u001b[0m\u001b[0;34m:\u001b[0m\u001b[0;34m\u001b[0m\u001b[0;34m\u001b[0m\u001b[0m\n\u001b[1;32m    502\u001b[0m             \u001b[0mfunc\u001b[0m \u001b[0;34m=\u001b[0m \u001b[0mgetattr\u001b[0m\u001b[0;34m(\u001b[0m\u001b[0mhandler\u001b[0m\u001b[0;34m,\u001b[0m \u001b[0mmeth_name\u001b[0m\u001b[0;34m)\u001b[0m\u001b[0;34m\u001b[0m\u001b[0;34m\u001b[0m\u001b[0m\n\u001b[0;32m--> 503\u001b[0;31m             \u001b[0mresult\u001b[0m \u001b[0;34m=\u001b[0m \u001b[0mfunc\u001b[0m\u001b[0;34m(\u001b[0m\u001b[0;34m*\u001b[0m\u001b[0margs\u001b[0m\u001b[0;34m)\u001b[0m\u001b[0;34m\u001b[0m\u001b[0;34m\u001b[0m\u001b[0m\n\u001b[0m\u001b[1;32m    504\u001b[0m             \u001b[0;32mif\u001b[0m \u001b[0mresult\u001b[0m \u001b[0;32mis\u001b[0m \u001b[0;32mnot\u001b[0m \u001b[0;32mNone\u001b[0m\u001b[0;34m:\u001b[0m\u001b[0;34m\u001b[0m\u001b[0;34m\u001b[0m\u001b[0m\n\u001b[1;32m    505\u001b[0m                 \u001b[0;32mreturn\u001b[0m \u001b[0mresult\u001b[0m\u001b[0;34m\u001b[0m\u001b[0;34m\u001b[0m\u001b[0m\n",
      "\u001b[0;32m~/miniconda3/envs/py3.7/lib/python3.7/urllib/request.py\u001b[0m in \u001b[0;36mhttp_error_default\u001b[0;34m(self, req, fp, code, msg, hdrs)\u001b[0m\n\u001b[1;32m    647\u001b[0m \u001b[0;32mclass\u001b[0m \u001b[0mHTTPDefaultErrorHandler\u001b[0m\u001b[0;34m(\u001b[0m\u001b[0mBaseHandler\u001b[0m\u001b[0;34m)\u001b[0m\u001b[0;34m:\u001b[0m\u001b[0;34m\u001b[0m\u001b[0;34m\u001b[0m\u001b[0m\n\u001b[1;32m    648\u001b[0m     \u001b[0;32mdef\u001b[0m \u001b[0mhttp_error_default\u001b[0m\u001b[0;34m(\u001b[0m\u001b[0mself\u001b[0m\u001b[0;34m,\u001b[0m \u001b[0mreq\u001b[0m\u001b[0;34m,\u001b[0m \u001b[0mfp\u001b[0m\u001b[0;34m,\u001b[0m \u001b[0mcode\u001b[0m\u001b[0;34m,\u001b[0m \u001b[0mmsg\u001b[0m\u001b[0;34m,\u001b[0m \u001b[0mhdrs\u001b[0m\u001b[0;34m)\u001b[0m\u001b[0;34m:\u001b[0m\u001b[0;34m\u001b[0m\u001b[0;34m\u001b[0m\u001b[0m\n\u001b[0;32m--> 649\u001b[0;31m         \u001b[0;32mraise\u001b[0m \u001b[0mHTTPError\u001b[0m\u001b[0;34m(\u001b[0m\u001b[0mreq\u001b[0m\u001b[0;34m.\u001b[0m\u001b[0mfull_url\u001b[0m\u001b[0;34m,\u001b[0m \u001b[0mcode\u001b[0m\u001b[0;34m,\u001b[0m \u001b[0mmsg\u001b[0m\u001b[0;34m,\u001b[0m \u001b[0mhdrs\u001b[0m\u001b[0;34m,\u001b[0m \u001b[0mfp\u001b[0m\u001b[0;34m)\u001b[0m\u001b[0;34m\u001b[0m\u001b[0;34m\u001b[0m\u001b[0m\n\u001b[0m\u001b[1;32m    650\u001b[0m \u001b[0;34m\u001b[0m\u001b[0m\n\u001b[1;32m    651\u001b[0m \u001b[0;32mclass\u001b[0m \u001b[0mHTTPRedirectHandler\u001b[0m\u001b[0;34m(\u001b[0m\u001b[0mBaseHandler\u001b[0m\u001b[0;34m)\u001b[0m\u001b[0;34m:\u001b[0m\u001b[0;34m\u001b[0m\u001b[0;34m\u001b[0m\u001b[0m\n",
      "\u001b[0;31mHTTPError\u001b[0m: HTTP Error 404: Not Found"
     ]
    }
   ],
   "source": [
    "folder_path = \"/homes/iws/sxian/autoencoder/autobot/sbert/\"\n",
    "headers={'User-Agent': 'Mozilla/5.0'}\n",
    "for dataset in datasets:\n",
    "    print(\"Download\", dataset)\n",
    "    url = server+dataset\n",
    "    dataset_path = os.path.join(folder_path, dataset)\n",
    "    urllib.request.urlretrieve(url, dataset_path)\n",
    "\n",
    "    if dataset.endswith('.zip'):\n",
    "        print(\"Extract\", dataset)\n",
    "        with zipfile.ZipFile(dataset_path, \"r\") as zip_ref:\n",
    "            zip_ref.extractall(folder_path)\n",
    "        os.remove(dataset_path)\n",
    "\n",
    "print(\"All datasets downloaded and extracted\")"
   ]
  },
  {
   "cell_type": "code",
   "execution_count": 19,
   "id": "99e61e33",
   "metadata": {
    "scrolled": true
   },
   "outputs": [
    {
     "name": "stderr",
     "output_type": "stream",
     "text": [
      "/homes/iws/sxian/miniconda3/envs/py3.7/lib/python3.7/site-packages/IPython/core/interactiveshell.py:3457: FutureWarning: The error_bad_lines argument has been deprecated and will be removed in a future version.\n",
      "\n",
      "\n",
      "  exec(code_obj, self.user_global_ns, self.user_ns)\n",
      "b'Skipping line 2508: expected 7 fields, saw 8\\nSkipping line 2649: expected 7 fields, saw 8\\nSkipping line 2726: expected 7 fields, saw 8\\nSkipping line 3070: expected 7 fields, saw 8\\nSkipping line 3392: expected 7 fields, saw 8\\nSkipping line 5515: expected 7 fields, saw 9\\nSkipping line 5516: expected 7 fields, saw 9\\nSkipping line 5517: expected 7 fields, saw 9\\nSkipping line 5518: expected 7 fields, saw 9\\nSkipping line 5519: expected 7 fields, saw 9\\nSkipping line 5520: expected 7 fields, saw 9\\nSkipping line 5521: expected 7 fields, saw 9\\nSkipping line 5522: expected 7 fields, saw 9\\nSkipping line 5523: expected 7 fields, saw 9\\nSkipping line 5524: expected 7 fields, saw 9\\nSkipping line 5525: expected 7 fields, saw 9\\nSkipping line 5526: expected 7 fields, saw 9\\nSkipping line 5527: expected 7 fields, saw 9\\nSkipping line 5528: expected 7 fields, saw 9\\nSkipping line 5529: expected 7 fields, saw 9\\nSkipping line 5530: expected 7 fields, saw 9\\nSkipping line 5531: expected 7 fields, saw 9\\nSkipping line 5532: expected 7 fields, saw 9\\nSkipping line 5533: expected 7 fields, saw 9\\nSkipping line 5534: expected 7 fields, saw 9\\nSkipping line 5535: expected 7 fields, saw 9\\nSkipping line 5536: expected 7 fields, saw 9\\nSkipping line 5537: expected 7 fields, saw 9\\nSkipping line 5538: expected 7 fields, saw 9\\nSkipping line 5539: expected 7 fields, saw 9\\nSkipping line 5540: expected 7 fields, saw 9\\nSkipping line 5541: expected 7 fields, saw 9\\nSkipping line 5542: expected 7 fields, saw 9\\nSkipping line 5543: expected 7 fields, saw 9\\nSkipping line 5544: expected 7 fields, saw 9\\nSkipping line 5545: expected 7 fields, saw 9\\nSkipping line 5546: expected 7 fields, saw 9\\nSkipping line 5547: expected 7 fields, saw 9\\nSkipping line 5548: expected 7 fields, saw 9\\nSkipping line 5549: expected 7 fields, saw 9\\nSkipping line 5550: expected 7 fields, saw 9\\nSkipping line 5551: expected 7 fields, saw 9\\nSkipping line 5552: expected 7 fields, saw 9\\nSkipping line 5553: expected 7 fields, saw 9\\nSkipping line 5554: expected 7 fields, saw 9\\nSkipping line 5555: expected 7 fields, saw 9\\nSkipping line 5556: expected 7 fields, saw 9\\nSkipping line 5557: expected 7 fields, saw 9\\nSkipping line 5558: expected 7 fields, saw 9\\nSkipping line 5559: expected 7 fields, saw 9\\nSkipping line 5560: expected 7 fields, saw 9\\nSkipping line 5561: expected 7 fields, saw 9\\nSkipping line 5562: expected 7 fields, saw 9\\nSkipping line 5563: expected 7 fields, saw 9\\nSkipping line 5564: expected 7 fields, saw 9\\nSkipping line 5565: expected 7 fields, saw 9\\nSkipping line 5566: expected 7 fields, saw 9\\nSkipping line 5567: expected 7 fields, saw 9\\nSkipping line 5568: expected 7 fields, saw 9\\nSkipping line 5569: expected 7 fields, saw 9\\nSkipping line 5570: expected 7 fields, saw 9\\nSkipping line 5571: expected 7 fields, saw 9\\nSkipping line 5572: expected 7 fields, saw 9\\nSkipping line 5573: expected 7 fields, saw 9\\nSkipping line 5574: expected 7 fields, saw 9\\nSkipping line 5575: expected 7 fields, saw 9\\nSkipping line 5576: expected 7 fields, saw 9\\nSkipping line 5577: expected 7 fields, saw 9\\nSkipping line 5578: expected 7 fields, saw 9\\nSkipping line 5579: expected 7 fields, saw 9\\nSkipping line 5580: expected 7 fields, saw 9\\nSkipping line 5581: expected 7 fields, saw 9\\nSkipping line 5582: expected 7 fields, saw 9\\nSkipping line 5583: expected 7 fields, saw 9\\nSkipping line 5584: expected 7 fields, saw 9\\nSkipping line 5585: expected 7 fields, saw 9\\nSkipping line 5586: expected 7 fields, saw 9\\nSkipping line 5587: expected 7 fields, saw 9\\nSkipping line 5588: expected 7 fields, saw 9\\nSkipping line 5589: expected 7 fields, saw 9\\nSkipping line 5590: expected 7 fields, saw 9\\nSkipping line 5591: expected 7 fields, saw 9\\nSkipping line 5592: expected 7 fields, saw 9\\nSkipping line 5593: expected 7 fields, saw 9\\nSkipping line 5594: expected 7 fields, saw 9\\nSkipping line 5595: expected 7 fields, saw 9\\nSkipping line 5596: expected 7 fields, saw 9\\nSkipping line 5597: expected 7 fields, saw 9\\nSkipping line 5598: expected 7 fields, saw 9\\nSkipping line 5599: expected 7 fields, saw 9\\nSkipping line 5600: expected 7 fields, saw 9\\nSkipping line 5601: expected 7 fields, saw 9\\nSkipping line 5602: expected 7 fields, saw 9\\nSkipping line 5603: expected 7 fields, saw 9\\nSkipping line 5604: expected 7 fields, saw 9\\nSkipping line 5605: expected 7 fields, saw 9\\nSkipping line 5606: expected 7 fields, saw 9\\nSkipping line 5607: expected 7 fields, saw 9\\nSkipping line 5608: expected 7 fields, saw 9\\nSkipping line 5609: expected 7 fields, saw 9\\nSkipping line 5610: expected 7 fields, saw 9\\nSkipping line 5611: expected 7 fields, saw 9\\nSkipping line 5612: expected 7 fields, saw 9\\nSkipping line 5613: expected 7 fields, saw 9\\nSkipping line 5614: expected 7 fields, saw 9\\nSkipping line 5615: expected 7 fields, saw 9\\nSkipping line 5616: expected 7 fields, saw 9\\nSkipping line 5617: expected 7 fields, saw 9\\nSkipping line 5618: expected 7 fields, saw 9\\nSkipping line 5619: expected 7 fields, saw 9\\nSkipping line 5620: expected 7 fields, saw 9\\nSkipping line 5621: expected 7 fields, saw 9\\nSkipping line 5622: expected 7 fields, saw 9\\nSkipping line 5623: expected 7 fields, saw 9\\nSkipping line 5624: expected 7 fields, saw 9\\nSkipping line 5625: expected 7 fields, saw 9\\nSkipping line 5626: expected 7 fields, saw 9\\nSkipping line 5627: expected 7 fields, saw 9\\nSkipping line 5628: expected 7 fields, saw 9\\nSkipping line 5629: expected 7 fields, saw 9\\nSkipping line 5630: expected 7 fields, saw 9\\nSkipping line 5631: expected 7 fields, saw 9\\nSkipping line 5632: expected 7 fields, saw 9\\nSkipping line 5633: expected 7 fields, saw 9\\nSkipping line 5634: expected 7 fields, saw 9\\nSkipping line 5635: expected 7 fields, saw 9\\nSkipping line 5636: expected 7 fields, saw 9\\nSkipping line 5637: expected 7 fields, saw 9\\nSkipping line 5638: expected 7 fields, saw 9\\nSkipping line 5639: expected 7 fields, saw 9\\nSkipping line 5640: expected 7 fields, saw 9\\nSkipping line 5641: expected 7 fields, saw 9\\nSkipping line 5642: expected 7 fields, saw 9\\nSkipping line 5643: expected 7 fields, saw 9\\nSkipping line 5644: expected 7 fields, saw 9\\nSkipping line 5645: expected 7 fields, saw 9\\nSkipping line 5646: expected 7 fields, saw 9\\nSkipping line 5647: expected 7 fields, saw 9\\nSkipping line 5648: expected 7 fields, saw 9\\nSkipping line 5649: expected 7 fields, saw 9\\nSkipping line 5650: expected 7 fields, saw 9\\nSkipping line 5651: expected 7 fields, saw 9\\nSkipping line 5652: expected 7 fields, saw 9\\nSkipping line 5653: expected 7 fields, saw 9\\nSkipping line 5654: expected 7 fields, saw 9\\nSkipping line 5655: expected 7 fields, saw 9\\nSkipping line 5656: expected 7 fields, saw 9\\nSkipping line 5657: expected 7 fields, saw 9\\nSkipping line 5658: expected 7 fields, saw 9\\nSkipping line 5659: expected 7 fields, saw 9\\nSkipping line 5660: expected 7 fields, saw 9\\nSkipping line 5661: expected 7 fields, saw 9\\nSkipping line 5662: expected 7 fields, saw 9\\nSkipping line 5663: expected 7 fields, saw 9\\nSkipping line 5664: expected 7 fields, saw 9\\nSkipping line 5665: expected 7 fields, saw 9\\nSkipping line 5666: expected 7 fields, saw 9\\nSkipping line 5667: expected 7 fields, saw 9\\nSkipping line 5668: expected 7 fields, saw 9\\nSkipping line 5669: expected 7 fields, saw 9\\nSkipping line 5670: expected 7 fields, saw 9\\nSkipping line 5671: expected 7 fields, saw 9\\nSkipping line 5672: expected 7 fields, saw 9\\nSkipping line 5673: expected 7 fields, saw 9\\nSkipping line 5674: expected 7 fields, saw 9\\nSkipping line 5675: expected 7 fields, saw 9\\nSkipping line 5676: expected 7 fields, saw 9\\nSkipping line 5677: expected 7 fields, saw 9\\nSkipping line 5678: expected 7 fields, saw 9\\nSkipping line 5679: expected 7 fields, saw 9\\nSkipping line 5680: expected 7 fields, saw 9\\nSkipping line 5681: expected 7 fields, saw 9\\nSkipping line 5682: expected 7 fields, saw 9\\nSkipping line 5683: expected 7 fields, saw 9\\nSkipping line 5684: expected 7 fields, saw 9\\nSkipping line 5685: expected 7 fields, saw 9\\nSkipping line 5686: expected 7 fields, saw 9\\nSkipping line 5687: expected 7 fields, saw 9\\nSkipping line 5688: expected 7 fields, saw 9\\nSkipping line 5689: expected 7 fields, saw 9\\nSkipping line 5690: expected 7 fields, saw 9\\nSkipping line 5691: expected 7 fields, saw 9\\nSkipping line 5692: expected 7 fields, saw 9\\nSkipping line 5693: expected 7 fields, saw 9\\nSkipping line 5694: expected 7 fields, saw 9\\nSkipping line 5695: expected 7 fields, saw 9\\nSkipping line 5696: expected 7 fields, saw 9\\nSkipping line 5697: expected 7 fields, saw 9\\nSkipping line 5698: expected 7 fields, saw 9\\nSkipping line 5699: expected 7 fields, saw 9\\nSkipping line 5700: expected 7 fields, saw 9\\nSkipping line 5701: expected 7 fields, saw 9\\nSkipping line 5702: expected 7 fields, saw 9\\nSkipping line 5703: expected 7 fields, saw 9\\nSkipping line 5704: expected 7 fields, saw 9\\nSkipping line 5705: expected 7 fields, saw 9\\nSkipping line 5706: expected 7 fields, saw 9\\nSkipping line 5707: expected 7 fields, saw 9\\nSkipping line 5708: expected 7 fields, saw 9\\nSkipping line 5709: expected 7 fields, saw 9\\nSkipping line 5710: expected 7 fields, saw 9\\nSkipping line 5711: expected 7 fields, saw 9\\n'\n"
     ]
    }
   ],
   "source": [
    "sts_train = pd.read_csv(\"/homes/iws/sxian/autoencoder/autobot/sbert/sts-train.csv\",sep = \"\\t\",error_bad_lines=False)"
   ]
  },
  {
   "cell_type": "code",
   "execution_count": 20,
   "id": "53dad253",
   "metadata": {
    "scrolled": true
   },
   "outputs": [
    {
     "data": {
      "text/html": [
       "<div>\n",
       "<style scoped>\n",
       "    .dataframe tbody tr th:only-of-type {\n",
       "        vertical-align: middle;\n",
       "    }\n",
       "\n",
       "    .dataframe tbody tr th {\n",
       "        vertical-align: top;\n",
       "    }\n",
       "\n",
       "    .dataframe thead th {\n",
       "        text-align: right;\n",
       "    }\n",
       "</style>\n",
       "<table border=\"1\" class=\"dataframe\">\n",
       "  <thead>\n",
       "    <tr style=\"text-align: right;\">\n",
       "      <th></th>\n",
       "      <th>main-captions</th>\n",
       "      <th>MSRvid</th>\n",
       "      <th>2012test</th>\n",
       "      <th>0001</th>\n",
       "      <th>5.000</th>\n",
       "      <th>A plane is taking off.</th>\n",
       "      <th>An air plane is taking off.</th>\n",
       "    </tr>\n",
       "  </thead>\n",
       "  <tbody>\n",
       "    <tr>\n",
       "      <th>0</th>\n",
       "      <td>main-captions</td>\n",
       "      <td>MSRvid</td>\n",
       "      <td>2012test</td>\n",
       "      <td>4</td>\n",
       "      <td>3.80</td>\n",
       "      <td>A man is playing a large flute.</td>\n",
       "      <td>A man is playing a flute.</td>\n",
       "    </tr>\n",
       "    <tr>\n",
       "      <th>1</th>\n",
       "      <td>main-captions</td>\n",
       "      <td>MSRvid</td>\n",
       "      <td>2012test</td>\n",
       "      <td>5</td>\n",
       "      <td>3.80</td>\n",
       "      <td>A man is spreading shreded cheese on a pizza.</td>\n",
       "      <td>A man is spreading shredded cheese on an uncoo...</td>\n",
       "    </tr>\n",
       "    <tr>\n",
       "      <th>2</th>\n",
       "      <td>main-captions</td>\n",
       "      <td>MSRvid</td>\n",
       "      <td>2012test</td>\n",
       "      <td>6</td>\n",
       "      <td>2.60</td>\n",
       "      <td>Three men are playing chess.</td>\n",
       "      <td>Two men are playing chess.</td>\n",
       "    </tr>\n",
       "    <tr>\n",
       "      <th>3</th>\n",
       "      <td>main-captions</td>\n",
       "      <td>MSRvid</td>\n",
       "      <td>2012test</td>\n",
       "      <td>9</td>\n",
       "      <td>4.25</td>\n",
       "      <td>A man is playing the cello.</td>\n",
       "      <td>A man seated is playing the cello.</td>\n",
       "    </tr>\n",
       "    <tr>\n",
       "      <th>4</th>\n",
       "      <td>main-captions</td>\n",
       "      <td>MSRvid</td>\n",
       "      <td>2012test</td>\n",
       "      <td>11</td>\n",
       "      <td>4.25</td>\n",
       "      <td>Some men are fighting.</td>\n",
       "      <td>Two men are fighting.</td>\n",
       "    </tr>\n",
       "    <tr>\n",
       "      <th>...</th>\n",
       "      <td>...</td>\n",
       "      <td>...</td>\n",
       "      <td>...</td>\n",
       "      <td>...</td>\n",
       "      <td>...</td>\n",
       "      <td>...</td>\n",
       "      <td>...</td>\n",
       "    </tr>\n",
       "    <tr>\n",
       "      <th>5503</th>\n",
       "      <td>main-news</td>\n",
       "      <td>headlines</td>\n",
       "      <td>2015</td>\n",
       "      <td>1489</td>\n",
       "      <td>1.20</td>\n",
       "      <td>Palestinian hunger striker, Israel reach deal</td>\n",
       "      <td>Palestinian activist detained in Israeli raid</td>\n",
       "    </tr>\n",
       "    <tr>\n",
       "      <th>5504</th>\n",
       "      <td>main-news</td>\n",
       "      <td>headlines</td>\n",
       "      <td>2015</td>\n",
       "      <td>1493</td>\n",
       "      <td>4.80</td>\n",
       "      <td>Assad says Syria will comply with UN arms reso...</td>\n",
       "      <td>Syria's Assad vows to comply with U.N. resolution</td>\n",
       "    </tr>\n",
       "    <tr>\n",
       "      <th>5505</th>\n",
       "      <td>main-news</td>\n",
       "      <td>headlines</td>\n",
       "      <td>2015</td>\n",
       "      <td>1496</td>\n",
       "      <td>4.60</td>\n",
       "      <td>South Korean President Sorry For Ferry Response</td>\n",
       "      <td>S. Korean president 'sorry' for ferry disaster</td>\n",
       "    </tr>\n",
       "    <tr>\n",
       "      <th>5506</th>\n",
       "      <td>main-news</td>\n",
       "      <td>headlines</td>\n",
       "      <td>2015</td>\n",
       "      <td>1498</td>\n",
       "      <td>0.00</td>\n",
       "      <td>Food price hikes raise concerns in Iran</td>\n",
       "      <td>American Chris Horner wins Tour of Spain</td>\n",
       "    </tr>\n",
       "    <tr>\n",
       "      <th>5507</th>\n",
       "      <td>main-news</td>\n",
       "      <td>headlines</td>\n",
       "      <td>2015</td>\n",
       "      <td>1499</td>\n",
       "      <td>2.00</td>\n",
       "      <td>Obama made last-minute decision on Syria approval</td>\n",
       "      <td>Obama mulls limited military action in Syria</td>\n",
       "    </tr>\n",
       "  </tbody>\n",
       "</table>\n",
       "<p>5508 rows × 7 columns</p>\n",
       "</div>"
      ],
      "text/plain": [
       "      main-captions     MSRvid  2012test  0001  5.000  \\\n",
       "0     main-captions     MSRvid  2012test     4   3.80   \n",
       "1     main-captions     MSRvid  2012test     5   3.80   \n",
       "2     main-captions     MSRvid  2012test     6   2.60   \n",
       "3     main-captions     MSRvid  2012test     9   4.25   \n",
       "4     main-captions     MSRvid  2012test    11   4.25   \n",
       "...             ...        ...       ...   ...    ...   \n",
       "5503      main-news  headlines      2015  1489   1.20   \n",
       "5504      main-news  headlines      2015  1493   4.80   \n",
       "5505      main-news  headlines      2015  1496   4.60   \n",
       "5506      main-news  headlines      2015  1498   0.00   \n",
       "5507      main-news  headlines      2015  1499   2.00   \n",
       "\n",
       "                                 A plane is taking off.  \\\n",
       "0                       A man is playing a large flute.   \n",
       "1         A man is spreading shreded cheese on a pizza.   \n",
       "2                          Three men are playing chess.   \n",
       "3                           A man is playing the cello.   \n",
       "4                                Some men are fighting.   \n",
       "...                                                 ...   \n",
       "5503      Palestinian hunger striker, Israel reach deal   \n",
       "5504  Assad says Syria will comply with UN arms reso...   \n",
       "5505    South Korean President Sorry For Ferry Response   \n",
       "5506            Food price hikes raise concerns in Iran   \n",
       "5507  Obama made last-minute decision on Syria approval   \n",
       "\n",
       "                            An air plane is taking off.  \n",
       "0                             A man is playing a flute.  \n",
       "1     A man is spreading shredded cheese on an uncoo...  \n",
       "2                            Two men are playing chess.  \n",
       "3                    A man seated is playing the cello.  \n",
       "4                                 Two men are fighting.  \n",
       "...                                                 ...  \n",
       "5503      Palestinian activist detained in Israeli raid  \n",
       "5504  Syria's Assad vows to comply with U.N. resolution  \n",
       "5505     S. Korean president 'sorry' for ferry disaster  \n",
       "5506           American Chris Horner wins Tour of Spain  \n",
       "5507       Obama mulls limited military action in Syria  \n",
       "\n",
       "[5508 rows x 7 columns]"
      ]
     },
     "execution_count": 20,
     "metadata": {},
     "output_type": "execute_result"
    }
   ],
   "source": [
    "sts_train"
   ]
  },
  {
   "cell_type": "markdown",
   "id": "16309a12",
   "metadata": {},
   "source": [
    "# Download MRPC"
   ]
  },
  {
   "cell_type": "code",
   "execution_count": 22,
   "id": "8d8177fa",
   "metadata": {},
   "outputs": [],
   "source": [
    "import io"
   ]
  },
  {
   "cell_type": "code",
   "execution_count": 23,
   "id": "7ed34299",
   "metadata": {},
   "outputs": [
    {
     "ename": "ModuleNotFoundError",
     "evalue": "No module named 'URLLIB'",
     "output_type": "error",
     "traceback": [
      "\u001b[0;31m---------------------------------------------------------------------------\u001b[0m",
      "\u001b[0;31mModuleNotFoundError\u001b[0m                       Traceback (most recent call last)",
      "\u001b[0;32m/tmp/ipykernel_593781/373613988.py\u001b[0m in \u001b[0;36m<module>\u001b[0;34m\u001b[0m\n\u001b[0;32m----> 1\u001b[0;31m \u001b[0;32mimport\u001b[0m \u001b[0mURLLIB\u001b[0m\u001b[0;34m\u001b[0m\u001b[0;34m\u001b[0m\u001b[0m\n\u001b[0m",
      "\u001b[0;31mModuleNotFoundError\u001b[0m: No module named 'URLLIB'"
     ]
    }
   ],
   "source": [
    "import URLLIB"
   ]
  }
 ],
 "metadata": {
  "kernelspec": {
   "display_name": "Python 3 (ipykernel)",
   "language": "python",
   "name": "python3"
  },
  "language_info": {
   "codemirror_mode": {
    "name": "ipython",
    "version": 3
   },
   "file_extension": ".py",
   "mimetype": "text/x-python",
   "name": "python",
   "nbconvert_exporter": "python",
   "pygments_lexer": "ipython3",
   "version": "3.7.11"
  }
 },
 "nbformat": 4,
 "nbformat_minor": 5
}
